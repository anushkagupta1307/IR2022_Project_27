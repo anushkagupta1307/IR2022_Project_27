{
  "nbformat": 4,
  "nbformat_minor": 0,
  "metadata": {
    "colab": {
      "name": "Project_Till_Scraping.ipynb",
      "provenance": [],
      "collapsed_sections": [],
      "include_colab_link": true
    },
    "kernelspec": {
      "name": "python3",
      "display_name": "Python 3"
    },
    "language_info": {
      "name": "python"
    }
  },
  "cells": [
    {
      "cell_type": "markdown",
      "metadata": {
        "id": "view-in-github",
        "colab_type": "text"
      },
      "source": [
        "<a href=\"https://colab.research.google.com/github/anushkagupta1307/IR2022_Project_27/blob/main/Project_Till_Scraping.ipynb\" target=\"_parent\"><img src=\"https://colab.research.google.com/assets/colab-badge.svg\" alt=\"Open In Colab\"/></a>"
      ]
    },
    {
      "cell_type": "code",
      "execution_count": null,
      "metadata": {
        "id": "CJwYWq12vVMu"
      },
      "outputs": [],
      "source": [
        "from bs4 import BeautifulSoup as bs\n",
        "import requests\n",
        "import pandas as pd"
      ]
    },
    {
      "cell_type": "code",
      "source": [
        "#function for scraping all the reviews for the provided URL\n",
        "\n",
        "def scraping_amazon_reviews(url):\n",
        "\n",
        "  flag=0;\n",
        "  count=0;\n",
        "  u=1;\n",
        "\n",
        "  link=url\n",
        "  page = requests.get(link)\n",
        "  #getting content of the provided URL with HTML parser\n",
        "  soup = bs(page.content,'html.parser')\n",
        "\n",
        "  #gettting total number of ratings from the webpage, to know from how many pages we have to fetch data \n",
        "  total_ratings = soup.find_all(\"\",{\"data-hook\":\"cr-filter-info-review-rating-count\"})\n",
        "  #print(total_ratings)\n",
        "  total_ratings_lstrips=total_ratings[0].get_text().lstrip('\\n')\n",
        "  total_ratings_rstrips=total_ratings_lstrips.rstrip('\\n')\n",
        "  total_ratings_rstrips = total_ratings_rstrips.replace(\",\", \"\")\n",
        "  result = total_ratings_rstrips.index('total ratings')\n",
        "\n",
        "  #print(result)\n",
        "\n",
        "  position=0\n",
        "  for i in range(result-2,0,-1):\n",
        "      if total_ratings_rstrips[i]==' ':\n",
        "        position=i\n",
        "        break;\n",
        "\n",
        "  #print(position)\n",
        "\n",
        "  #extracted total number of reviews\n",
        "  total_ratings_final=int(total_ratings_rstrips[position+1:result-1])\n",
        "  #print(total_ratings_final)\n",
        "  \n",
        "  #creating empty dataframe with the mentioned columns\n",
        "  df = pd.DataFrame(columns = ['Customer Name', 'Review title', 'Ratings','Reviews'])\n",
        "  # u<=(total_ratings_final/10)\n",
        "  while(u<=(200)):\n",
        "\n",
        "    #populating dataframe page by page as each page contains only 10 reviews\n",
        "    url=url+\"&pageNumber=\"+str(u)\n",
        "    page = requests.get(url)\n",
        "\n",
        "    if page.status_code!=200:\n",
        "      #print(\"breaked at\",u)\n",
        "      flag=1\n",
        "      continue;\n",
        "    \n",
        "    soup = bs(page.content,'html.parser')\n",
        "\n",
        "    #getting name of the reviewer using class id - a-profile-name \n",
        "    names = soup.find_all('span',class_='a-profile-name')\n",
        "    cust_name = []\n",
        "    for i in range(0,len(names)):\n",
        "        cust_name.append(names[i].get_text())\n",
        "\n",
        "    #popping first two names because they are for the top positve and top critical\n",
        "    cust_name.pop(0)\n",
        "    cust_name.pop(0)\n",
        "\n",
        "    #collecting indexes for the repeating customer names\n",
        "    indexes_to_remove=[]\n",
        "    for i in range(len(cust_name)):\n",
        "      \n",
        "      for j in range(i+1,len(cust_name)):\n",
        "        if cust_name[i]==cust_name[j]:\n",
        "          #print(cust_name[i])\n",
        "          indexes_to_remove.append(j)\n",
        "\n",
        "    #storing unique entries to the list\n",
        "    for i in range(len(indexes_to_remove)-1,-1,-1):\n",
        "        cust_name.pop(indexes_to_remove[i])\n",
        "\n",
        "    #fetching title of the review using the class id - review-title-content \n",
        "    title = soup.find_all('a',class_='review-title-content')\n",
        "    review_title = []\n",
        "    for i in range(0,len(title)):\n",
        "        review_title.append(title[i].get_text())\n",
        "    \n",
        "    #stripping extra spaces from left and right from the title\n",
        "    review_title[:] = [titles.lstrip('\\n') for titles in review_title]\n",
        "    review_title[:] = [titles.rstrip('\\n') for titles in review_title]\n",
        "\n",
        "    #fetching rating of the review using the class id - review-rating\n",
        "    rating = soup.find_all('i',class_='review-rating')\n",
        "    rate = []\n",
        "    for i in range(0,len(rating)):\n",
        "        rate.append(rating[i].get_text())\n",
        "\n",
        "    #popping first two ratings because they are for the top positve and top critical\n",
        "    rate.pop(0)\n",
        "    rate.pop(0)\n",
        "\n",
        "    #fetching review of the review using the class id - review-body\n",
        "    review = soup.find_all(\"span\",{\"data-hook\":\"review-body\"})\n",
        "\n",
        "    review_content = []\n",
        "    for i in range(0,len(review)):\n",
        "        review_content.append(review[i].get_text())\n",
        "\n",
        "    #stripping extra spaces from left and right from the review\n",
        "    review_content[:] = [reviews.lstrip('\\n') for reviews in review_content]\n",
        "    review_content[:] = [reviews.rstrip('\\n') for reviews in review_content]\n",
        "    #print(review_content)\n",
        "\n",
        "\n",
        "    #finally storing each of the value to the created dataframe earlier\n",
        "    for i in range(len(cust_name)):\n",
        "      \n",
        "      df=df.append({'Customer Name':cust_name[i], 'Review title':review_title[i], 'Ratings':rate[i],'Reviews':review_content[i]},ignore_index=True)\n",
        "\n",
        "    u=u+1\n",
        "    count=count+1\n",
        "\n",
        "  #print(df)\n",
        "  return df;\n"
      ],
      "metadata": {
        "id": "5sqVLbiZvdpv"
      },
      "execution_count": null,
      "outputs": []
    },
    {
      "cell_type": "code",
      "source": [
        "df_amazon=scraping_amazon_reviews(\"https://www.amazon.in/OnePlus-Nord-Charcoal-128GB-Storage/product-reviews/B09576CYNP/ref=cm_cr_dp_d_show_all_btm?ie=UTF8&reviewerType=all_reviews\")"
      ],
      "metadata": {
        "id": "8gBcOBfqvkni"
      },
      "execution_count": null,
      "outputs": []
    },
    {
      "cell_type": "code",
      "source": [
        "df_amazon"
      ],
      "metadata": {
        "colab": {
          "base_uri": "https://localhost:8080/",
          "height": 423
        },
        "id": "4rRORm-swtPg",
        "outputId": "7643889c-62d9-454e-cda2-afbc5f130759"
      },
      "execution_count": null,
      "outputs": [
        {
          "output_type": "execute_result",
          "data": {
            "text/plain": [
              "       Customer Name                                      Review title  \\\n",
              "0              vikas                                      Bakwas phone   \n",
              "1     Verified buyer                     After replacement..now better   \n",
              "2            Rohit M                                      Good overall   \n",
              "3          Omar khan                       Worst phone in this segment   \n",
              "4     Subhrajit Pyne                            Smooth user experience   \n",
              "...              ...                                               ...   \n",
              "1995            Myra                        Disappointed due to camera   \n",
              "1996        sumit s.                                      Worst mobile   \n",
              "1997          Dhiren  Buy if software performance matters most to you.   \n",
              "1998               S                                    Waste of money   \n",
              "1999     Ajit Thakur                                            Fab !!   \n",
              "\n",
              "                 Ratings                                            Reviews  \n",
              "0     1.0 out of 5 stars                                       Bakwas phone  \n",
              "1     3.0 out of 5 stars  Few issues are resolved that are mention below...  \n",
              "2     4.0 out of 5 stars  The best part of the phone is it's super simpl...  \n",
              "3     1.0 out of 5 stars  Phone looks good but features are 10k phoneCam...  \n",
              "4     5.0 out of 5 stars  Performance is really good - no lags at allPer...  \n",
              "...                  ...                                                ...  \n",
              "1995  1.0 out of 5 stars  23 jun-Update after using almost 4 days,Front ...  \n",
              "1996  1.0 out of 5 stars  Worst mobile, dont waste your hard earn money ...  \n",
              "1997  5.0 out of 5 stars  So far, so good. While the omission of the ale...  \n",
              "1998  1.0 out of 5 stars  Waste of money, phone heats like a volcano. Wi...  \n",
              "1999  5.0 out of 5 stars  First of all thanks to Amazon to deliver my ph...  \n",
              "\n",
              "[2000 rows x 4 columns]"
            ],
            "text/html": [
              "\n",
              "  <div id=\"df-77dd28d0-c164-4dfe-b808-b541b2905371\">\n",
              "    <div class=\"colab-df-container\">\n",
              "      <div>\n",
              "<style scoped>\n",
              "    .dataframe tbody tr th:only-of-type {\n",
              "        vertical-align: middle;\n",
              "    }\n",
              "\n",
              "    .dataframe tbody tr th {\n",
              "        vertical-align: top;\n",
              "    }\n",
              "\n",
              "    .dataframe thead th {\n",
              "        text-align: right;\n",
              "    }\n",
              "</style>\n",
              "<table border=\"1\" class=\"dataframe\">\n",
              "  <thead>\n",
              "    <tr style=\"text-align: right;\">\n",
              "      <th></th>\n",
              "      <th>Customer Name</th>\n",
              "      <th>Review title</th>\n",
              "      <th>Ratings</th>\n",
              "      <th>Reviews</th>\n",
              "    </tr>\n",
              "  </thead>\n",
              "  <tbody>\n",
              "    <tr>\n",
              "      <th>0</th>\n",
              "      <td>vikas</td>\n",
              "      <td>Bakwas phone</td>\n",
              "      <td>1.0 out of 5 stars</td>\n",
              "      <td>Bakwas phone</td>\n",
              "    </tr>\n",
              "    <tr>\n",
              "      <th>1</th>\n",
              "      <td>Verified buyer</td>\n",
              "      <td>After replacement..now better</td>\n",
              "      <td>3.0 out of 5 stars</td>\n",
              "      <td>Few issues are resolved that are mention below...</td>\n",
              "    </tr>\n",
              "    <tr>\n",
              "      <th>2</th>\n",
              "      <td>Rohit M</td>\n",
              "      <td>Good overall</td>\n",
              "      <td>4.0 out of 5 stars</td>\n",
              "      <td>The best part of the phone is it's super simpl...</td>\n",
              "    </tr>\n",
              "    <tr>\n",
              "      <th>3</th>\n",
              "      <td>Omar khan</td>\n",
              "      <td>Worst phone in this segment</td>\n",
              "      <td>1.0 out of 5 stars</td>\n",
              "      <td>Phone looks good but features are 10k phoneCam...</td>\n",
              "    </tr>\n",
              "    <tr>\n",
              "      <th>4</th>\n",
              "      <td>Subhrajit Pyne</td>\n",
              "      <td>Smooth user experience</td>\n",
              "      <td>5.0 out of 5 stars</td>\n",
              "      <td>Performance is really good - no lags at allPer...</td>\n",
              "    </tr>\n",
              "    <tr>\n",
              "      <th>...</th>\n",
              "      <td>...</td>\n",
              "      <td>...</td>\n",
              "      <td>...</td>\n",
              "      <td>...</td>\n",
              "    </tr>\n",
              "    <tr>\n",
              "      <th>1995</th>\n",
              "      <td>Myra</td>\n",
              "      <td>Disappointed due to camera</td>\n",
              "      <td>1.0 out of 5 stars</td>\n",
              "      <td>23 jun-Update after using almost 4 days,Front ...</td>\n",
              "    </tr>\n",
              "    <tr>\n",
              "      <th>1996</th>\n",
              "      <td>sumit s.</td>\n",
              "      <td>Worst mobile</td>\n",
              "      <td>1.0 out of 5 stars</td>\n",
              "      <td>Worst mobile, dont waste your hard earn money ...</td>\n",
              "    </tr>\n",
              "    <tr>\n",
              "      <th>1997</th>\n",
              "      <td>Dhiren</td>\n",
              "      <td>Buy if software performance matters most to you.</td>\n",
              "      <td>5.0 out of 5 stars</td>\n",
              "      <td>So far, so good. While the omission of the ale...</td>\n",
              "    </tr>\n",
              "    <tr>\n",
              "      <th>1998</th>\n",
              "      <td>S</td>\n",
              "      <td>Waste of money</td>\n",
              "      <td>1.0 out of 5 stars</td>\n",
              "      <td>Waste of money, phone heats like a volcano. Wi...</td>\n",
              "    </tr>\n",
              "    <tr>\n",
              "      <th>1999</th>\n",
              "      <td>Ajit Thakur</td>\n",
              "      <td>Fab !!</td>\n",
              "      <td>5.0 out of 5 stars</td>\n",
              "      <td>First of all thanks to Amazon to deliver my ph...</td>\n",
              "    </tr>\n",
              "  </tbody>\n",
              "</table>\n",
              "<p>2000 rows × 4 columns</p>\n",
              "</div>\n",
              "      <button class=\"colab-df-convert\" onclick=\"convertToInteractive('df-77dd28d0-c164-4dfe-b808-b541b2905371')\"\n",
              "              title=\"Convert this dataframe to an interactive table.\"\n",
              "              style=\"display:none;\">\n",
              "        \n",
              "  <svg xmlns=\"http://www.w3.org/2000/svg\" height=\"24px\"viewBox=\"0 0 24 24\"\n",
              "       width=\"24px\">\n",
              "    <path d=\"M0 0h24v24H0V0z\" fill=\"none\"/>\n",
              "    <path d=\"M18.56 5.44l.94 2.06.94-2.06 2.06-.94-2.06-.94-.94-2.06-.94 2.06-2.06.94zm-11 1L8.5 8.5l.94-2.06 2.06-.94-2.06-.94L8.5 2.5l-.94 2.06-2.06.94zm10 10l.94 2.06.94-2.06 2.06-.94-2.06-.94-.94-2.06-.94 2.06-2.06.94z\"/><path d=\"M17.41 7.96l-1.37-1.37c-.4-.4-.92-.59-1.43-.59-.52 0-1.04.2-1.43.59L10.3 9.45l-7.72 7.72c-.78.78-.78 2.05 0 2.83L4 21.41c.39.39.9.59 1.41.59.51 0 1.02-.2 1.41-.59l7.78-7.78 2.81-2.81c.8-.78.8-2.07 0-2.86zM5.41 20L4 18.59l7.72-7.72 1.47 1.35L5.41 20z\"/>\n",
              "  </svg>\n",
              "      </button>\n",
              "      \n",
              "  <style>\n",
              "    .colab-df-container {\n",
              "      display:flex;\n",
              "      flex-wrap:wrap;\n",
              "      gap: 12px;\n",
              "    }\n",
              "\n",
              "    .colab-df-convert {\n",
              "      background-color: #E8F0FE;\n",
              "      border: none;\n",
              "      border-radius: 50%;\n",
              "      cursor: pointer;\n",
              "      display: none;\n",
              "      fill: #1967D2;\n",
              "      height: 32px;\n",
              "      padding: 0 0 0 0;\n",
              "      width: 32px;\n",
              "    }\n",
              "\n",
              "    .colab-df-convert:hover {\n",
              "      background-color: #E2EBFA;\n",
              "      box-shadow: 0px 1px 2px rgba(60, 64, 67, 0.3), 0px 1px 3px 1px rgba(60, 64, 67, 0.15);\n",
              "      fill: #174EA6;\n",
              "    }\n",
              "\n",
              "    [theme=dark] .colab-df-convert {\n",
              "      background-color: #3B4455;\n",
              "      fill: #D2E3FC;\n",
              "    }\n",
              "\n",
              "    [theme=dark] .colab-df-convert:hover {\n",
              "      background-color: #434B5C;\n",
              "      box-shadow: 0px 1px 3px 1px rgba(0, 0, 0, 0.15);\n",
              "      filter: drop-shadow(0px 1px 2px rgba(0, 0, 0, 0.3));\n",
              "      fill: #FFFFFF;\n",
              "    }\n",
              "  </style>\n",
              "\n",
              "      <script>\n",
              "        const buttonEl =\n",
              "          document.querySelector('#df-77dd28d0-c164-4dfe-b808-b541b2905371 button.colab-df-convert');\n",
              "        buttonEl.style.display =\n",
              "          google.colab.kernel.accessAllowed ? 'block' : 'none';\n",
              "\n",
              "        async function convertToInteractive(key) {\n",
              "          const element = document.querySelector('#df-77dd28d0-c164-4dfe-b808-b541b2905371');\n",
              "          const dataTable =\n",
              "            await google.colab.kernel.invokeFunction('convertToInteractive',\n",
              "                                                     [key], {});\n",
              "          if (!dataTable) return;\n",
              "\n",
              "          const docLinkHtml = 'Like what you see? Visit the ' +\n",
              "            '<a target=\"_blank\" href=https://colab.research.google.com/notebooks/data_table.ipynb>data table notebook</a>'\n",
              "            + ' to learn more about interactive tables.';\n",
              "          element.innerHTML = '';\n",
              "          dataTable['output_type'] = 'display_data';\n",
              "          await google.colab.output.renderOutput(dataTable, element);\n",
              "          const docLink = document.createElement('div');\n",
              "          docLink.innerHTML = docLinkHtml;\n",
              "          element.appendChild(docLink);\n",
              "        }\n",
              "      </script>\n",
              "    </div>\n",
              "  </div>\n",
              "  "
            ]
          },
          "metadata": {},
          "execution_count": 4
        }
      ]
    },
    {
      "cell_type": "code",
      "source": [
        "#extracting rating from the string mentioned\n",
        "extracted_ratings=[]\n",
        "for i in range(len(df_amazon)):\n",
        "  for j in range(len(df_amazon['Ratings'][i])):\n",
        "    if df_amazon['Ratings'][i][j]==\" \":\n",
        "      count=j\n",
        "      break;\n",
        "  #print(count)\n",
        "\n",
        "  #print(df_sorted_price['overall rating'][i][:count])\n",
        "  extracted_ratings.append(float(df_amazon['Ratings'][i][:count]))\n"
      ],
      "metadata": {
        "id": "77SgYyGe2DgZ"
      },
      "execution_count": null,
      "outputs": []
    },
    {
      "cell_type": "code",
      "source": [
        "df_amazon=df_amazon.drop(['Ratings'], axis = 1)"
      ],
      "metadata": {
        "id": "WUlORpuf24BB"
      },
      "execution_count": null,
      "outputs": []
    },
    {
      "cell_type": "code",
      "source": [
        "df_amazon['Ratings']=extracted_ratings"
      ],
      "metadata": {
        "id": "8fMfzWQV3WzT"
      },
      "execution_count": null,
      "outputs": []
    },
    {
      "cell_type": "code",
      "source": [
        "ecommerce_website=[]\n",
        "for i in range(len(df_amazon)):\n",
        "  ecommerce_website.append(\"Amazon\")\n"
      ],
      "metadata": {
        "id": "ME9pAJoc3W12"
      },
      "execution_count": null,
      "outputs": []
    },
    {
      "cell_type": "code",
      "source": [
        "df_amazon['Ecommerce Website']=ecommerce_website"
      ],
      "metadata": {
        "id": "Vx6bEqZR3l9U"
      },
      "execution_count": null,
      "outputs": []
    },
    {
      "cell_type": "code",
      "source": [
        "#funcction for scraping flipkart reviews\n",
        "def scraping_flipkart_reviews(url):\n",
        "\n",
        "  flag=0;\n",
        "  count=0;\n",
        "  u=1;\n",
        "\n",
        "  #requesting connection from URL and getting content using HTML parser\n",
        "  page = requests.get(url)\n",
        "  soup = bs(page.content,'html.parser')\n",
        "\n",
        "  #getting total numnber of ratings on the product\n",
        "  total_ratings = soup.find_all('',class_='row _2afbiS')\n",
        "  #print(total_ratings)\n",
        "  #total_ratings[1].get_text()\n",
        "\n",
        "  number_of_reviews=total_ratings[1].get_text()\n",
        "  number_of_reviews = number_of_reviews.replace(\",\", \"\")\n",
        "  break_point=0\n",
        "\n",
        "\n",
        "  for i in range(len(number_of_reviews)):\n",
        "    if number_of_reviews[i]==' ':\n",
        "      break_point=i\n",
        "      break;\n",
        "\n",
        "    \n",
        "  #extracting integer part from the total ratings for getting number of pages we have to iterate\n",
        "  number_of_review_pages=int(number_of_reviews[:break_point])\n",
        "\n",
        "\n",
        "  #initializing empty dataframe with the mentioned columns\n",
        "  df = pd.DataFrame(columns = ['Customer Name', 'Review title', 'Ratings','Reviews'])\n",
        "  while(u<=(number_of_review_pages/10)):\n",
        "    url=url+\"&page=\"+str(u)\n",
        "    page = requests.get(url)\n",
        "\n",
        "\n",
        "    if page.status_code!=200:\n",
        "      #print(\"breaked at\",u)\n",
        "      flag=1\n",
        "      continue;\n",
        "    \n",
        "    soup = bs(page.content,'html.parser')\n",
        "\n",
        "    #fetching name of the reviewers using class - _2sc7ZR _2V5EHH\n",
        "    names = soup.find_all('',class_='_2sc7ZR _2V5EHH')\n",
        "    cust_name = []\n",
        "    for i in range(0,len(names)):\n",
        "        cust_name.append(names[i].get_text())\n",
        "\n",
        "    if len(cust_name)<10:\n",
        "      for i in range(len(cust_name),10,1):\n",
        "        cust_name.append('anonymous')\n",
        "\n",
        "\n",
        "    #fetching title of the review using class - _2-N8zT\n",
        "    title = soup.find_all('',class_='_2-N8zT')\n",
        "    review_title = []\n",
        "    for i in range(0,len(title)):\n",
        "        review_title.append(title[i].get_text())\n",
        "    \n",
        "    if len(review_title)<10:\n",
        "      for i in range(len(review_title),10,1):\n",
        "        review_title.append('NA')\n",
        "  \n",
        "    \n",
        "    #fetching rating of the review using class - _3LWZlK _1BLPMq\n",
        "    rating = soup.find_all('',class_='_3LWZlK _1BLPMq')\n",
        "    rate = []\n",
        "    for i in range(0,len(rating)):\n",
        "        rate.append(rating[i].get_text())\n",
        "\n",
        "    if len(rate)<10:\n",
        "      for i in range(len(rate),10,1):\n",
        "        rate.append('NA')\n",
        "\n",
        "   \n",
        "    #fetching rating of the review using class - t-ZTKy\n",
        "    review = soup.find_all('',class_='t-ZTKy')\n",
        "\n",
        "    review_content = []\n",
        "    for i in range(0,len(review)):\n",
        "        review_content.append(review[i].get_text())\n",
        "\n",
        "    \n",
        "    if len(review_content)<10:\n",
        "      for i in range(len(review_content),10,1):\n",
        "        review_content.append('NA')\n",
        "\n",
        "    # print(len(cust_name))\n",
        "    # print(len(review_title))\n",
        "    # print(len(rate))\n",
        "    # print(len(review_content))\n",
        "\n",
        "    #appending all extracted information to the earlier created dataframe\n",
        "    for i in range(len(cust_name)):\n",
        "      df=df.append({'Customer Name':cust_name[i], 'Review title':review_title[i], 'Ratings':rate[i],'Reviews':review_content[i]},ignore_index=True)\n",
        "\n",
        "    u=u+1\n",
        "    count=count+1\n",
        "\n",
        "  #print(df)\n",
        "  return df;\n"
      ],
      "metadata": {
        "id": "Td-ZsgP9voAw"
      },
      "execution_count": null,
      "outputs": []
    },
    {
      "cell_type": "code",
      "source": [
        "#Get the reviews on iPhone 13\n",
        "df=scraping_flipkart_reviews(\"https://www.flipkart.com/apple-iphone-13-starlight-128-gb/product-reviews/itmc9604f122ae7f?pid=MOBG6VF5ADKHKXFX&lid=LSTMOBG6VF5ADKHKXFXZVXGTL&marketplace=FLIPKART\")"
      ],
      "metadata": {
        "id": "9ItzKCXIvrWD"
      },
      "execution_count": null,
      "outputs": []
    },
    {
      "cell_type": "code",
      "source": [
        "df"
      ],
      "metadata": {
        "colab": {
          "base_uri": "https://localhost:8080/",
          "height": 423
        },
        "id": "YEHR-kfrvtR0",
        "outputId": "6d745a29-961d-44a5-e21a-fbe4fd8a8028"
      },
      "execution_count": null,
      "outputs": [
        {
          "output_type": "execute_result",
          "data": {
            "text/plain": [
              "                   Customer Name         Review title Ratings  \\\n",
              "0              Flipkart Customer     Perfect product!       5   \n",
              "1                   Vaibhav  Raj            Fabulous!       5   \n",
              "2                   Vishal Dubey            Must buy!       5   \n",
              "3                  Nithesh Nayak            Must buy!       5   \n",
              "4              Diptanil Debbarma       Classy product       5   \n",
              "..                           ...                  ...     ...   \n",
              "395  Flipkart illa chandrashekar            Fabulous!       5   \n",
              "396            Flipkart Customer            Fabulous!       5   \n",
              "397                 Akhlesh Mann  Best in the market!       5   \n",
              "398              Soumyadeep Dhar    Terrific purchase       5   \n",
              "399              vaibhav  chawda   Highly recommended       5   \n",
              "\n",
              "                                               Reviews  \n",
              "0    Awesome camera Amazing battery life Super xdr ...  \n",
              "1    Amazing beast....As expected , didn't disappoi...  \n",
              "2    Just upgraded from 11 to iPhone 13 ..cinematic...  \n",
              "3    That was quick delivery by FLIPKART.Box is so ...  \n",
              "4    The most premium feeling I ever had while hold...  \n",
              "..                                                 ...  \n",
              "395                                      NiceREAD MORE  \n",
              "396                         Very Good ProductREAD MORE  \n",
              "397     Awesome phone with great performance.READ MORE  \n",
              "398  Upgraded from X to XIII. Amazing camera. Built...  \n",
              "399                              Good productREAD MORE  \n",
              "\n",
              "[400 rows x 4 columns]"
            ],
            "text/html": [
              "\n",
              "  <div id=\"df-6ffb7490-4a5f-4356-ac74-abdebac0a1a9\">\n",
              "    <div class=\"colab-df-container\">\n",
              "      <div>\n",
              "<style scoped>\n",
              "    .dataframe tbody tr th:only-of-type {\n",
              "        vertical-align: middle;\n",
              "    }\n",
              "\n",
              "    .dataframe tbody tr th {\n",
              "        vertical-align: top;\n",
              "    }\n",
              "\n",
              "    .dataframe thead th {\n",
              "        text-align: right;\n",
              "    }\n",
              "</style>\n",
              "<table border=\"1\" class=\"dataframe\">\n",
              "  <thead>\n",
              "    <tr style=\"text-align: right;\">\n",
              "      <th></th>\n",
              "      <th>Customer Name</th>\n",
              "      <th>Review title</th>\n",
              "      <th>Ratings</th>\n",
              "      <th>Reviews</th>\n",
              "    </tr>\n",
              "  </thead>\n",
              "  <tbody>\n",
              "    <tr>\n",
              "      <th>0</th>\n",
              "      <td>Flipkart Customer</td>\n",
              "      <td>Perfect product!</td>\n",
              "      <td>5</td>\n",
              "      <td>Awesome camera Amazing battery life Super xdr ...</td>\n",
              "    </tr>\n",
              "    <tr>\n",
              "      <th>1</th>\n",
              "      <td>Vaibhav  Raj</td>\n",
              "      <td>Fabulous!</td>\n",
              "      <td>5</td>\n",
              "      <td>Amazing beast....As expected , didn't disappoi...</td>\n",
              "    </tr>\n",
              "    <tr>\n",
              "      <th>2</th>\n",
              "      <td>Vishal Dubey</td>\n",
              "      <td>Must buy!</td>\n",
              "      <td>5</td>\n",
              "      <td>Just upgraded from 11 to iPhone 13 ..cinematic...</td>\n",
              "    </tr>\n",
              "    <tr>\n",
              "      <th>3</th>\n",
              "      <td>Nithesh Nayak</td>\n",
              "      <td>Must buy!</td>\n",
              "      <td>5</td>\n",
              "      <td>That was quick delivery by FLIPKART.Box is so ...</td>\n",
              "    </tr>\n",
              "    <tr>\n",
              "      <th>4</th>\n",
              "      <td>Diptanil Debbarma</td>\n",
              "      <td>Classy product</td>\n",
              "      <td>5</td>\n",
              "      <td>The most premium feeling I ever had while hold...</td>\n",
              "    </tr>\n",
              "    <tr>\n",
              "      <th>...</th>\n",
              "      <td>...</td>\n",
              "      <td>...</td>\n",
              "      <td>...</td>\n",
              "      <td>...</td>\n",
              "    </tr>\n",
              "    <tr>\n",
              "      <th>395</th>\n",
              "      <td>Flipkart illa chandrashekar</td>\n",
              "      <td>Fabulous!</td>\n",
              "      <td>5</td>\n",
              "      <td>NiceREAD MORE</td>\n",
              "    </tr>\n",
              "    <tr>\n",
              "      <th>396</th>\n",
              "      <td>Flipkart Customer</td>\n",
              "      <td>Fabulous!</td>\n",
              "      <td>5</td>\n",
              "      <td>Very Good ProductREAD MORE</td>\n",
              "    </tr>\n",
              "    <tr>\n",
              "      <th>397</th>\n",
              "      <td>Akhlesh Mann</td>\n",
              "      <td>Best in the market!</td>\n",
              "      <td>5</td>\n",
              "      <td>Awesome phone with great performance.READ MORE</td>\n",
              "    </tr>\n",
              "    <tr>\n",
              "      <th>398</th>\n",
              "      <td>Soumyadeep Dhar</td>\n",
              "      <td>Terrific purchase</td>\n",
              "      <td>5</td>\n",
              "      <td>Upgraded from X to XIII. Amazing camera. Built...</td>\n",
              "    </tr>\n",
              "    <tr>\n",
              "      <th>399</th>\n",
              "      <td>vaibhav  chawda</td>\n",
              "      <td>Highly recommended</td>\n",
              "      <td>5</td>\n",
              "      <td>Good productREAD MORE</td>\n",
              "    </tr>\n",
              "  </tbody>\n",
              "</table>\n",
              "<p>400 rows × 4 columns</p>\n",
              "</div>\n",
              "      <button class=\"colab-df-convert\" onclick=\"convertToInteractive('df-6ffb7490-4a5f-4356-ac74-abdebac0a1a9')\"\n",
              "              title=\"Convert this dataframe to an interactive table.\"\n",
              "              style=\"display:none;\">\n",
              "        \n",
              "  <svg xmlns=\"http://www.w3.org/2000/svg\" height=\"24px\"viewBox=\"0 0 24 24\"\n",
              "       width=\"24px\">\n",
              "    <path d=\"M0 0h24v24H0V0z\" fill=\"none\"/>\n",
              "    <path d=\"M18.56 5.44l.94 2.06.94-2.06 2.06-.94-2.06-.94-.94-2.06-.94 2.06-2.06.94zm-11 1L8.5 8.5l.94-2.06 2.06-.94-2.06-.94L8.5 2.5l-.94 2.06-2.06.94zm10 10l.94 2.06.94-2.06 2.06-.94-2.06-.94-.94-2.06-.94 2.06-2.06.94z\"/><path d=\"M17.41 7.96l-1.37-1.37c-.4-.4-.92-.59-1.43-.59-.52 0-1.04.2-1.43.59L10.3 9.45l-7.72 7.72c-.78.78-.78 2.05 0 2.83L4 21.41c.39.39.9.59 1.41.59.51 0 1.02-.2 1.41-.59l7.78-7.78 2.81-2.81c.8-.78.8-2.07 0-2.86zM5.41 20L4 18.59l7.72-7.72 1.47 1.35L5.41 20z\"/>\n",
              "  </svg>\n",
              "      </button>\n",
              "      \n",
              "  <style>\n",
              "    .colab-df-container {\n",
              "      display:flex;\n",
              "      flex-wrap:wrap;\n",
              "      gap: 12px;\n",
              "    }\n",
              "\n",
              "    .colab-df-convert {\n",
              "      background-color: #E8F0FE;\n",
              "      border: none;\n",
              "      border-radius: 50%;\n",
              "      cursor: pointer;\n",
              "      display: none;\n",
              "      fill: #1967D2;\n",
              "      height: 32px;\n",
              "      padding: 0 0 0 0;\n",
              "      width: 32px;\n",
              "    }\n",
              "\n",
              "    .colab-df-convert:hover {\n",
              "      background-color: #E2EBFA;\n",
              "      box-shadow: 0px 1px 2px rgba(60, 64, 67, 0.3), 0px 1px 3px 1px rgba(60, 64, 67, 0.15);\n",
              "      fill: #174EA6;\n",
              "    }\n",
              "\n",
              "    [theme=dark] .colab-df-convert {\n",
              "      background-color: #3B4455;\n",
              "      fill: #D2E3FC;\n",
              "    }\n",
              "\n",
              "    [theme=dark] .colab-df-convert:hover {\n",
              "      background-color: #434B5C;\n",
              "      box-shadow: 0px 1px 3px 1px rgba(0, 0, 0, 0.15);\n",
              "      filter: drop-shadow(0px 1px 2px rgba(0, 0, 0, 0.3));\n",
              "      fill: #FFFFFF;\n",
              "    }\n",
              "  </style>\n",
              "\n",
              "      <script>\n",
              "        const buttonEl =\n",
              "          document.querySelector('#df-6ffb7490-4a5f-4356-ac74-abdebac0a1a9 button.colab-df-convert');\n",
              "        buttonEl.style.display =\n",
              "          google.colab.kernel.accessAllowed ? 'block' : 'none';\n",
              "\n",
              "        async function convertToInteractive(key) {\n",
              "          const element = document.querySelector('#df-6ffb7490-4a5f-4356-ac74-abdebac0a1a9');\n",
              "          const dataTable =\n",
              "            await google.colab.kernel.invokeFunction('convertToInteractive',\n",
              "                                                     [key], {});\n",
              "          if (!dataTable) return;\n",
              "\n",
              "          const docLinkHtml = 'Like what you see? Visit the ' +\n",
              "            '<a target=\"_blank\" href=https://colab.research.google.com/notebooks/data_table.ipynb>data table notebook</a>'\n",
              "            + ' to learn more about interactive tables.';\n",
              "          element.innerHTML = '';\n",
              "          dataTable['output_type'] = 'display_data';\n",
              "          await google.colab.output.renderOutput(dataTable, element);\n",
              "          const docLink = document.createElement('div');\n",
              "          docLink.innerHTML = docLinkHtml;\n",
              "          element.appendChild(docLink);\n",
              "        }\n",
              "      </script>\n",
              "    </div>\n",
              "  </div>\n",
              "  "
            ]
          },
          "metadata": {},
          "execution_count": 13
        }
      ]
    },
    {
      "cell_type": "code",
      "source": [
        "#Append the ecommerce from which review is fetched in the dataframe\n",
        "ecommerce_website=[]\n",
        "for i in range(len(df)):\n",
        "  ecommerce_website.append(\"Flipkart\")\n",
        "df['Ecommerce Website']=ecommerce_website"
      ],
      "metadata": {
        "id": "kx7xtT86wnzi"
      },
      "execution_count": null,
      "outputs": []
    },
    {
      "cell_type": "code",
      "source": [
        "df.columns"
      ],
      "metadata": {
        "colab": {
          "base_uri": "https://localhost:8080/"
        },
        "id": "_Tmmvpg-4_wI",
        "outputId": "194947e1-fb2b-4c99-b360-2bea639b7df8"
      },
      "execution_count": null,
      "outputs": [
        {
          "output_type": "execute_result",
          "data": {
            "text/plain": [
              "Index(['Customer Name', 'Review title', 'Ratings', 'Reviews',\n",
              "       'Ecommerce Website'],\n",
              "      dtype='object')"
            ]
          },
          "metadata": {},
          "execution_count": 22
        }
      ]
    },
    {
      "cell_type": "code",
      "source": [
        "df_amazon.columns"
      ],
      "metadata": {
        "colab": {
          "base_uri": "https://localhost:8080/"
        },
        "id": "-jTdyWMl5BEa",
        "outputId": "e92c4534-4358-478b-c31b-e900c665c664"
      },
      "execution_count": null,
      "outputs": [
        {
          "output_type": "execute_result",
          "data": {
            "text/plain": [
              "Index(['Customer Name', 'Review title', 'Reviews', 'Ratings',\n",
              "       'Ecommerce Website'],\n",
              "      dtype='object')"
            ]
          },
          "metadata": {},
          "execution_count": 24
        }
      ]
    },
    {
      "cell_type": "code",
      "source": [
        "frames = [df, df_amazon]\n",
        "result = pd.concat(frames)"
      ],
      "metadata": {
        "id": "LIGRGvaK5FhM"
      },
      "execution_count": null,
      "outputs": []
    },
    {
      "cell_type": "code",
      "source": [
        "result.reset_index(drop=True, inplace=True)"
      ],
      "metadata": {
        "id": "LzV8HN5wApQO"
      },
      "execution_count": null,
      "outputs": []
    },
    {
      "cell_type": "code",
      "source": [
        "#cleaning data - by collecting indexes where rating is not present there\n",
        "list_of_indexes_of_rows_to_remove=[]\n",
        "for i in range(len(result)):\n",
        "  if \"NA\" in str(result[\"Ratings\"][i]):\n",
        "    list_of_indexes_of_rows_to_remove.append(i)"
      ],
      "metadata": {
        "id": "K5kZ68Z0_TCK"
      },
      "execution_count": null,
      "outputs": []
    },
    {
      "cell_type": "code",
      "source": [
        "result.drop(list_of_indexes_of_rows_to_remove, axis=0, inplace=True)"
      ],
      "metadata": {
        "id": "OXZ-WOOLAiq0"
      },
      "execution_count": null,
      "outputs": []
    },
    {
      "cell_type": "code",
      "source": [
        "result.reset_index(drop=True, inplace=True)"
      ],
      "metadata": {
        "id": "yLTMCy_4BmgQ"
      },
      "execution_count": null,
      "outputs": []
    },
    {
      "cell_type": "code",
      "source": [
        "#Converting the ratings to float values\n",
        "for i in range(len(result)):\n",
        "  result['Ratings'][i]=float(result['Ratings'][i])"
      ],
      "metadata": {
        "id": "k3hHR8XU-2PD"
      },
      "execution_count": null,
      "outputs": []
    },
    {
      "cell_type": "code",
      "source": [
        "result.reset_index(drop=True, inplace=True)\n",
        "result\n"
      ],
      "metadata": {
        "colab": {
          "base_uri": "https://localhost:8080/",
          "height": 423
        },
        "id": "xvxvPw7b50MB",
        "outputId": "ec1e3853-a4fa-4cd2-d870-45ef39b6980b"
      },
      "execution_count": null,
      "outputs": [
        {
          "output_type": "execute_result",
          "data": {
            "text/plain": [
              "          Customer Name                                      Review title  \\\n",
              "0     Flipkart Customer                                  Perfect product!   \n",
              "1          Vaibhav  Raj                                         Fabulous!   \n",
              "2          Vishal Dubey                                         Must buy!   \n",
              "3         Nithesh Nayak                                         Must buy!   \n",
              "4     Diptanil Debbarma                                    Classy product   \n",
              "...                 ...                                               ...   \n",
              "2331               Myra                        Disappointed due to camera   \n",
              "2332           sumit s.                                      Worst mobile   \n",
              "2333             Dhiren  Buy if software performance matters most to you.   \n",
              "2334                  S                                    Waste of money   \n",
              "2335        Ajit Thakur                                            Fab !!   \n",
              "\n",
              "     Ratings                                            Reviews  \\\n",
              "0        5.0  Awesome camera Amazing battery life Super xdr ...   \n",
              "1        5.0  Amazing beast....As expected , didn't disappoi...   \n",
              "2        5.0  Just upgraded from 11 to iPhone 13 ..cinematic...   \n",
              "3        5.0  That was quick delivery by FLIPKART.Box is so ...   \n",
              "4        5.0  The most premium feeling I ever had while hold...   \n",
              "...      ...                                                ...   \n",
              "2331     1.0  23 jun-Update after using almost 4 days,Front ...   \n",
              "2332     1.0  Worst mobile, dont waste your hard earn money ...   \n",
              "2333     5.0  So far, so good. While the omission of the ale...   \n",
              "2334     1.0  Waste of money, phone heats like a volcano. Wi...   \n",
              "2335     5.0  First of all thanks to Amazon to deliver my ph...   \n",
              "\n",
              "     Ecommerce Website  \n",
              "0             Flipkart  \n",
              "1             Flipkart  \n",
              "2             Flipkart  \n",
              "3             Flipkart  \n",
              "4             Flipkart  \n",
              "...                ...  \n",
              "2331            Amazon  \n",
              "2332            Amazon  \n",
              "2333            Amazon  \n",
              "2334            Amazon  \n",
              "2335            Amazon  \n",
              "\n",
              "[2336 rows x 5 columns]"
            ],
            "text/html": [
              "\n",
              "  <div id=\"df-4e1b6dc5-0c29-47cb-87e8-f3933d0ee80a\">\n",
              "    <div class=\"colab-df-container\">\n",
              "      <div>\n",
              "<style scoped>\n",
              "    .dataframe tbody tr th:only-of-type {\n",
              "        vertical-align: middle;\n",
              "    }\n",
              "\n",
              "    .dataframe tbody tr th {\n",
              "        vertical-align: top;\n",
              "    }\n",
              "\n",
              "    .dataframe thead th {\n",
              "        text-align: right;\n",
              "    }\n",
              "</style>\n",
              "<table border=\"1\" class=\"dataframe\">\n",
              "  <thead>\n",
              "    <tr style=\"text-align: right;\">\n",
              "      <th></th>\n",
              "      <th>Customer Name</th>\n",
              "      <th>Review title</th>\n",
              "      <th>Ratings</th>\n",
              "      <th>Reviews</th>\n",
              "      <th>Ecommerce Website</th>\n",
              "    </tr>\n",
              "  </thead>\n",
              "  <tbody>\n",
              "    <tr>\n",
              "      <th>0</th>\n",
              "      <td>Flipkart Customer</td>\n",
              "      <td>Perfect product!</td>\n",
              "      <td>5.0</td>\n",
              "      <td>Awesome camera Amazing battery life Super xdr ...</td>\n",
              "      <td>Flipkart</td>\n",
              "    </tr>\n",
              "    <tr>\n",
              "      <th>1</th>\n",
              "      <td>Vaibhav  Raj</td>\n",
              "      <td>Fabulous!</td>\n",
              "      <td>5.0</td>\n",
              "      <td>Amazing beast....As expected , didn't disappoi...</td>\n",
              "      <td>Flipkart</td>\n",
              "    </tr>\n",
              "    <tr>\n",
              "      <th>2</th>\n",
              "      <td>Vishal Dubey</td>\n",
              "      <td>Must buy!</td>\n",
              "      <td>5.0</td>\n",
              "      <td>Just upgraded from 11 to iPhone 13 ..cinematic...</td>\n",
              "      <td>Flipkart</td>\n",
              "    </tr>\n",
              "    <tr>\n",
              "      <th>3</th>\n",
              "      <td>Nithesh Nayak</td>\n",
              "      <td>Must buy!</td>\n",
              "      <td>5.0</td>\n",
              "      <td>That was quick delivery by FLIPKART.Box is so ...</td>\n",
              "      <td>Flipkart</td>\n",
              "    </tr>\n",
              "    <tr>\n",
              "      <th>4</th>\n",
              "      <td>Diptanil Debbarma</td>\n",
              "      <td>Classy product</td>\n",
              "      <td>5.0</td>\n",
              "      <td>The most premium feeling I ever had while hold...</td>\n",
              "      <td>Flipkart</td>\n",
              "    </tr>\n",
              "    <tr>\n",
              "      <th>...</th>\n",
              "      <td>...</td>\n",
              "      <td>...</td>\n",
              "      <td>...</td>\n",
              "      <td>...</td>\n",
              "      <td>...</td>\n",
              "    </tr>\n",
              "    <tr>\n",
              "      <th>2331</th>\n",
              "      <td>Myra</td>\n",
              "      <td>Disappointed due to camera</td>\n",
              "      <td>1.0</td>\n",
              "      <td>23 jun-Update after using almost 4 days,Front ...</td>\n",
              "      <td>Amazon</td>\n",
              "    </tr>\n",
              "    <tr>\n",
              "      <th>2332</th>\n",
              "      <td>sumit s.</td>\n",
              "      <td>Worst mobile</td>\n",
              "      <td>1.0</td>\n",
              "      <td>Worst mobile, dont waste your hard earn money ...</td>\n",
              "      <td>Amazon</td>\n",
              "    </tr>\n",
              "    <tr>\n",
              "      <th>2333</th>\n",
              "      <td>Dhiren</td>\n",
              "      <td>Buy if software performance matters most to you.</td>\n",
              "      <td>5.0</td>\n",
              "      <td>So far, so good. While the omission of the ale...</td>\n",
              "      <td>Amazon</td>\n",
              "    </tr>\n",
              "    <tr>\n",
              "      <th>2334</th>\n",
              "      <td>S</td>\n",
              "      <td>Waste of money</td>\n",
              "      <td>1.0</td>\n",
              "      <td>Waste of money, phone heats like a volcano. Wi...</td>\n",
              "      <td>Amazon</td>\n",
              "    </tr>\n",
              "    <tr>\n",
              "      <th>2335</th>\n",
              "      <td>Ajit Thakur</td>\n",
              "      <td>Fab !!</td>\n",
              "      <td>5.0</td>\n",
              "      <td>First of all thanks to Amazon to deliver my ph...</td>\n",
              "      <td>Amazon</td>\n",
              "    </tr>\n",
              "  </tbody>\n",
              "</table>\n",
              "<p>2336 rows × 5 columns</p>\n",
              "</div>\n",
              "      <button class=\"colab-df-convert\" onclick=\"convertToInteractive('df-4e1b6dc5-0c29-47cb-87e8-f3933d0ee80a')\"\n",
              "              title=\"Convert this dataframe to an interactive table.\"\n",
              "              style=\"display:none;\">\n",
              "        \n",
              "  <svg xmlns=\"http://www.w3.org/2000/svg\" height=\"24px\"viewBox=\"0 0 24 24\"\n",
              "       width=\"24px\">\n",
              "    <path d=\"M0 0h24v24H0V0z\" fill=\"none\"/>\n",
              "    <path d=\"M18.56 5.44l.94 2.06.94-2.06 2.06-.94-2.06-.94-.94-2.06-.94 2.06-2.06.94zm-11 1L8.5 8.5l.94-2.06 2.06-.94-2.06-.94L8.5 2.5l-.94 2.06-2.06.94zm10 10l.94 2.06.94-2.06 2.06-.94-2.06-.94-.94-2.06-.94 2.06-2.06.94z\"/><path d=\"M17.41 7.96l-1.37-1.37c-.4-.4-.92-.59-1.43-.59-.52 0-1.04.2-1.43.59L10.3 9.45l-7.72 7.72c-.78.78-.78 2.05 0 2.83L4 21.41c.39.39.9.59 1.41.59.51 0 1.02-.2 1.41-.59l7.78-7.78 2.81-2.81c.8-.78.8-2.07 0-2.86zM5.41 20L4 18.59l7.72-7.72 1.47 1.35L5.41 20z\"/>\n",
              "  </svg>\n",
              "      </button>\n",
              "      \n",
              "  <style>\n",
              "    .colab-df-container {\n",
              "      display:flex;\n",
              "      flex-wrap:wrap;\n",
              "      gap: 12px;\n",
              "    }\n",
              "\n",
              "    .colab-df-convert {\n",
              "      background-color: #E8F0FE;\n",
              "      border: none;\n",
              "      border-radius: 50%;\n",
              "      cursor: pointer;\n",
              "      display: none;\n",
              "      fill: #1967D2;\n",
              "      height: 32px;\n",
              "      padding: 0 0 0 0;\n",
              "      width: 32px;\n",
              "    }\n",
              "\n",
              "    .colab-df-convert:hover {\n",
              "      background-color: #E2EBFA;\n",
              "      box-shadow: 0px 1px 2px rgba(60, 64, 67, 0.3), 0px 1px 3px 1px rgba(60, 64, 67, 0.15);\n",
              "      fill: #174EA6;\n",
              "    }\n",
              "\n",
              "    [theme=dark] .colab-df-convert {\n",
              "      background-color: #3B4455;\n",
              "      fill: #D2E3FC;\n",
              "    }\n",
              "\n",
              "    [theme=dark] .colab-df-convert:hover {\n",
              "      background-color: #434B5C;\n",
              "      box-shadow: 0px 1px 3px 1px rgba(0, 0, 0, 0.15);\n",
              "      filter: drop-shadow(0px 1px 2px rgba(0, 0, 0, 0.3));\n",
              "      fill: #FFFFFF;\n",
              "    }\n",
              "  </style>\n",
              "\n",
              "      <script>\n",
              "        const buttonEl =\n",
              "          document.querySelector('#df-4e1b6dc5-0c29-47cb-87e8-f3933d0ee80a button.colab-df-convert');\n",
              "        buttonEl.style.display =\n",
              "          google.colab.kernel.accessAllowed ? 'block' : 'none';\n",
              "\n",
              "        async function convertToInteractive(key) {\n",
              "          const element = document.querySelector('#df-4e1b6dc5-0c29-47cb-87e8-f3933d0ee80a');\n",
              "          const dataTable =\n",
              "            await google.colab.kernel.invokeFunction('convertToInteractive',\n",
              "                                                     [key], {});\n",
              "          if (!dataTable) return;\n",
              "\n",
              "          const docLinkHtml = 'Like what you see? Visit the ' +\n",
              "            '<a target=\"_blank\" href=https://colab.research.google.com/notebooks/data_table.ipynb>data table notebook</a>'\n",
              "            + ' to learn more about interactive tables.';\n",
              "          element.innerHTML = '';\n",
              "          dataTable['output_type'] = 'display_data';\n",
              "          await google.colab.output.renderOutput(dataTable, element);\n",
              "          const docLink = document.createElement('div');\n",
              "          docLink.innerHTML = docLinkHtml;\n",
              "          element.appendChild(docLink);\n",
              "        }\n",
              "      </script>\n",
              "    </div>\n",
              "  </div>\n",
              "  "
            ]
          },
          "metadata": {},
          "execution_count": 46
        }
      ]
    },
    {
      "cell_type": "code",
      "source": [
        "#Store the length of reviews in a list\n",
        "review_length=[]\n",
        "for i in range(len(result)):\n",
        "  temp_length=len(result['Reviews'][i])\n",
        "  review_length.append(temp_length)\n"
      ],
      "metadata": {
        "id": "nWwtgs3I51QJ"
      },
      "execution_count": null,
      "outputs": []
    },
    {
      "cell_type": "code",
      "source": [
        "#Append length of reviews in the dataframe\n",
        "result['length of review']=review_length"
      ],
      "metadata": {
        "id": "9-WRJKLH6tgh"
      },
      "execution_count": null,
      "outputs": []
    },
    {
      "cell_type": "code",
      "source": [
        "#Plot length of review vs rating graph\n",
        "import matplotlib.pyplot as plt\n",
        "import seaborn as sns\n",
        "sns.set_style(style='whitegrid')\n",
        "\n",
        "fig, ax = plt.subplots(figsize = (14,8))\n",
        "sns.boxplot(result['Ratings'], result['length of review'])\n",
        "plt.ylim(-20, 2000)"
      ],
      "metadata": {
        "colab": {
          "base_uri": "https://localhost:8080/",
          "height": 574
        },
        "id": "xALGlxku7ZuS",
        "outputId": "068645fa-05f0-49ba-a512-b1a8efb99089"
      },
      "execution_count": null,
      "outputs": [
        {
          "output_type": "stream",
          "name": "stderr",
          "text": [
            "/usr/local/lib/python3.7/dist-packages/seaborn/_decorators.py:43: FutureWarning: Pass the following variables as keyword args: x, y. From version 0.12, the only valid positional argument will be `data`, and passing other arguments without an explicit keyword will result in an error or misinterpretation.\n",
            "  FutureWarning\n"
          ]
        },
        {
          "output_type": "execute_result",
          "data": {
            "text/plain": [
              "(-20.0, 2000.0)"
            ]
          },
          "metadata": {},
          "execution_count": 49
        },
        {
          "output_type": "display_data",
          "data": {
            "text/plain": [
              "<Figure size 1008x576 with 1 Axes>"
            ],
            "image/png": "[encoded data removed]"
          },
          "metadata": {}
        }
      ]
    },
    {
      "cell_type": "code",
      "source": [
        "#Plot number of Ratings for each Rating Score\n",
        "fig, ax = plt.subplots(figsize = (14,8))\n",
        "result.groupby('Ratings').size().plot(kind='bar', color=\"grey\",alpha=0.7)\n",
        "plt.xlabel('Ratings')\n",
        "plt.ylabel('Number of Ratings')\n",
        "plt.title('Combined Reviews')"
      ],
      "metadata": {
        "colab": {
          "base_uri": "https://localhost:8080/",
          "height": 537
        },
        "id": "ingwwoqJ8c1z",
        "outputId": "08ea2826-7d52-4338-bff5-3a6a37c8bfca"
      },
      "execution_count": null,
      "outputs": [
        {
          "output_type": "execute_result",
          "data": {
            "text/plain": [
              "Text(0.5, 1.0, 'Combined Reviews')"
            ]
          },
          "metadata": {},
          "execution_count": 50
        },
        {
          "output_type": "display_data",
          "data": {
            "text/plain": [
              "<Figure size 1008x576 with 1 Axes>"
            ],
            "image/png": "[encoded data removed]"
          },
          "metadata": {}
        }
      ]
    },
    {
      "cell_type": "code",
      "source": [
        "#import necessary libraries used in the preprocessing\n",
        "import os\n",
        "import pydrive\n",
        "import re\n",
        "from nltk.corpus import stopwords\n",
        "from gensim.parsing.preprocessing import remove_stopwords\n",
        "from nltk.stem import PorterStemmer\n",
        "from nltk.tokenize import word_tokenize\n",
        "ps = PorterStemmer()\n",
        "from nltk.stem import WordNetLemmatizer\n",
        "lemmatizer = WordNetLemmatizer()\n",
        "import nltk\n",
        "#nltk library for preprocessing\n",
        "nltk.download('stopwords')\n",
        "nltk.download('punkt')\n",
        "nltk.download('wordnet')\n",
        "stop_words = set(stopwords.words('english'))"
      ],
      "metadata": {
        "colab": {
          "base_uri": "https://localhost:8080/"
        },
        "id": "tq1iYaJjDRou",
        "outputId": "ac2ac945-4e34-448f-87ba-5f9c0fd57152"
      },
      "execution_count": null,
      "outputs": [
        {
          "output_type": "stream",
          "name": "stdout",
          "text": [
            "[nltk_data] Downloading package stopwords to /root/nltk_data...\n",
            "[nltk_data]   Unzipping corpora/stopwords.zip.\n",
            "[nltk_data] Downloading package punkt to /root/nltk_data...\n",
            "[nltk_data]   Unzipping tokenizers/punkt.zip.\n",
            "[nltk_data] Downloading package wordnet to /root/nltk_data...\n",
            "[nltk_data]   Unzipping corpora/wordnet.zip.\n"
          ]
        }
      ]
    },
    {
      "cell_type": "code",
      "source": [
        "ps.stem(\"battery\")"
      ],
      "metadata": {
        "colab": {
          "base_uri": "https://localhost:8080/",
          "height": 35
        },
        "id": "XE3N7VAADVQJ",
        "outputId": "c01efa65-5e72-4ab5-f0cf-d618fc43dd95"
      },
      "execution_count": null,
      "outputs": [
        {
          "output_type": "execute_result",
          "data": {
            "text/plain": [
              "'batteri'"
            ],
            "application/vnd.google.colaboratory.intrinsic+json": {
              "type": "string"
            }
          },
          "metadata": {},
          "execution_count": 52
        }
      ]
    },
    {
      "cell_type": "code",
      "source": [
        "#Create an Empty dictionary with features like battery, ram, display, heat, price, processor, \n",
        "#camera etc to store the number of reviews containing these features\n",
        "term_count_dictionary={ps.stem(\"battery\"):0, ps.stem(\"ram\"):0, ps.stem(\"display\"):0,ps.stem(\"heat\"):0, ps.stem(\"design\"):0, ps.stem(\"quality\"):0, ps.stem(\"price\"):0, ps.stem(\"processor\"):0, ps.stem(\"memory\"):0, ps.stem(\"camera\"):0, ps.stem(\"performance\"):0, ps.stem(\"touch\"):0}"
      ],
      "metadata": {
        "id": "qU62q-MV-qFx"
      },
      "execution_count": null,
      "outputs": []
    },
    {
      "cell_type": "code",
      "source": [
        "term_count_dictionary"
      ],
      "metadata": {
        "colab": {
          "base_uri": "https://localhost:8080/"
        },
        "id": "Wqef1EkuIMkG",
        "outputId": "b4ec1933-4006-4fe8-d6c9-6ede377b611a"
      },
      "execution_count": null,
      "outputs": [
        {
          "output_type": "execute_result",
          "data": {
            "text/plain": [
              "{'batteri': 0,\n",
              " 'camera': 0,\n",
              " 'design': 0,\n",
              " 'display': 0,\n",
              " 'heat': 0,\n",
              " 'memori': 0,\n",
              " 'perform': 0,\n",
              " 'price': 0,\n",
              " 'processor': 0,\n",
              " 'qualiti': 0,\n",
              " 'ram': 0,\n",
              " 'touch': 0}"
            ]
          },
          "metadata": {},
          "execution_count": 71
        }
      ]
    },
    {
      "cell_type": "code",
      "source": [
        "for i in range(len(result)):\n",
        "    temp_review=result['Reviews'][i]\n",
        "    #coverting review to lowercase\n",
        "    temp_review = temp_review.lower()\n",
        "    #remving any digit present in the review\n",
        "    temp_review = re.sub(r'\\d+','',temp_review)\n",
        "    #remove extra whitespaces present \n",
        "    temp_review = re.sub(r'[^\\w\\s]','', temp_review)\n",
        "    #removing speacial characters\n",
        "    temp_review= re.sub('[@_!#$%^&*()<>?/\\|}{~:]','',temp_review)\n",
        "    #stripping extra spaces on left and right\n",
        "    temp_review = temp_review.strip()\n",
        "    #removing all the stopwords present in the review\n",
        "    temp_review = remove_stopwords(temp_review)\n",
        "    words = word_tokenize(temp_review)\n",
        "\n",
        "    #If the word exists in the review, increment the count in the dictionary by 1\n",
        "    for word in words:\n",
        "      if ps.stem(word) in term_count_dictionary:\n",
        "        term_count_dictionary[ps.stem(word)]=term_count_dictionary[ps.stem(word)]+1\n"
      ],
      "metadata": {
        "id": "M4Fmfw-aIMZt"
      },
      "execution_count": null,
      "outputs": []
    },
    {
      "cell_type": "code",
      "source": [
        "#Print the populated dictionary which has count of the reviews which contain the mentioned features\n",
        "term_count_dictionary"
      ],
      "metadata": {
        "colab": {
          "base_uri": "https://localhost:8080/"
        },
        "id": "xZ3rC-9dIL9Z",
        "outputId": "1ceb00d4-d540-425d-8792-b8de64ed1cdc"
      },
      "execution_count": null,
      "outputs": [
        {
          "output_type": "execute_result",
          "data": {
            "text/plain": [
              "{'batteri': 637,\n",
              " 'camera': 2656,\n",
              " 'design': 1,\n",
              " 'display': 21,\n",
              " 'heat': 208,\n",
              " 'memori': 0,\n",
              " 'perform': 824,\n",
              " 'price': 605,\n",
              " 'processor': 2,\n",
              " 'qualiti': 824,\n",
              " 'ram': 1,\n",
              " 'touch': 1}"
            ]
          },
          "metadata": {},
          "execution_count": 73
        }
      ]
    },
    {
      "cell_type": "code",
      "source": [
        "#Plot the features vs the number of reviews which contain those features\n",
        "features = list(term_count_dictionary.keys())\n",
        "feature_count = list(term_count_dictionary.values())\n",
        "fig = plt.figure(figsize = (16, 8))\n",
        "plt.bar(features, feature_count, color ='grey',width = 0.4)\n",
        "plt.xlabel(\"Fetaures\")\n",
        "plt.ylabel(\"Count of Features\")\n",
        "plt.title(\"Features v/s Count of feature\")\n",
        "plt.show()"
      ],
      "metadata": {
        "colab": {
          "base_uri": "https://localhost:8080/",
          "height": 513
        },
        "id": "xOvLZZPlELpi",
        "outputId": "215a07d6-c99c-47c2-9056-3b3180bdd5be"
      },
      "execution_count": null,
      "outputs": [
        {
          "output_type": "display_data",
          "data": {
            "text/plain": [
              "<Figure size 1152x576 with 1 Axes>"
            ],
            "image/png": "[encoded data removed]"
          },
          "metadata": {}
        }
      ]
    },
    {
      "cell_type": "code",
      "source": [
        ""
      ],
      "metadata": {
        "id": "07DGDkv6Lwfe"
      },
      "execution_count": null,
      "outputs": []
    }
  ]
}