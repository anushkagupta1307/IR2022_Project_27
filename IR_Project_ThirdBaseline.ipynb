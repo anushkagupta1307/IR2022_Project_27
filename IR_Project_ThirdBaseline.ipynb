{
  "cells": [
    {
      "cell_type": "markdown",
      "metadata": {
        "id": "view-in-github",
        "colab_type": "text"
      },
      "source": [
        "<a href=\"https://colab.research.google.com/github/anushkagupta1307/IR2022_Project_27/blob/main/IR_Project_ThirdBaseline.ipynb\" target=\"_parent\"><img src=\"https://colab.research.google.com/assets/colab-badge.svg\" alt=\"Open In Colab\"/></a>"
      ]
    },
    {
      "cell_type": "code",
      "execution_count": null,
      "metadata": {
        "id": "zqbf32_4sGxp"
      },
      "outputs": [],
      "source": [
        "#Method to get Reviews from a product on Amazon-\n",
        "#This method takes the Product URL as the input and fetches all the Reviews on the product on that URL\n",
        "#Implemented using BeautifulSoup library\n",
        "#The method returns a dataframe consisting of Customer Name, Review Title, Rating and Review\n",
        "from bs4 import BeautifulSoup as bs\n",
        "import requests\n",
        "import pandas as pd\n",
        "def scraping_amazon_reviews(url):\n",
        "\n",
        "  flag=0;\n",
        "  count=0;\n",
        "  u=1;\n",
        "\n",
        "  link=url\n",
        "  page = requests.get(link)\n",
        "  soup = bs(page.content,'html.parser')\n",
        "  total_ratings = soup.find_all(\"\",{\"data-hook\":\"cr-filter-info-review-rating-count\"})\n",
        "  #print(total_ratings)\n",
        "  total_ratings_lstrips=total_ratings[0].get_text().lstrip('\\n')\n",
        "  total_ratings_rstrips=total_ratings_lstrips.rstrip('\\n')\n",
        "  total_ratings_rstrips = total_ratings_rstrips.replace(\",\", \"\")\n",
        "  result = total_ratings_rstrips.index('total ratings')\n",
        "\n",
        "  #print(result)\n",
        "\n",
        "  position=0\n",
        "  for i in range(result-2,0,-1):\n",
        "      if total_ratings_rstrips[i]==' ':\n",
        "        position=i\n",
        "        break;\n",
        "\n",
        "  #print(position)\n",
        "\n",
        "\n",
        "  total_ratings_final=int(total_ratings_rstrips[position+1:result-1])\n",
        "  #print(total_ratings_final)\n",
        "  \n",
        "\n",
        "  df = pd.DataFrame(columns = ['Customer Name', 'Review title', 'Ratings','Reviews'])\n",
        "  # u<=(total_ratings_final/10)\n",
        "  while(u<=(200)):\n",
        "    url=url+\"&pageNumber=\"+str(u)\n",
        "    page = requests.get(url)\n",
        "\n",
        "    if page.status_code!=200:\n",
        "      #print(\"breaked at\",u)\n",
        "      flag=1\n",
        "      continue;\n",
        "    \n",
        "    soup = bs(page.content,'html.parser')\n",
        "\n",
        "    names = soup.find_all('span',class_='a-profile-name')\n",
        "    cust_name = []\n",
        "    for i in range(0,len(names)):\n",
        "        cust_name.append(names[i].get_text())\n",
        "\n",
        "    cust_name.pop(0)\n",
        "    cust_name.pop(0)\n",
        "\n",
        "    indexes_to_remove=[]\n",
        "    for i in range(len(cust_name)):\n",
        "      \n",
        "      for j in range(i+1,len(cust_name)):\n",
        "        if cust_name[i]==cust_name[j]:\n",
        "          #print(cust_name[i])\n",
        "          indexes_to_remove.append(j)\n",
        "\n",
        "    for i in range(len(indexes_to_remove)-1,-1,-1):\n",
        "        cust_name.pop(indexes_to_remove[i])\n",
        "\n",
        "\n",
        "    title = soup.find_all('a',class_='review-title-content')\n",
        "    review_title = []\n",
        "    for i in range(0,len(title)):\n",
        "        review_title.append(title[i].get_text())\n",
        "    \n",
        "    review_title[:] = [titles.lstrip('\\n') for titles in review_title]\n",
        "    review_title[:] = [titles.rstrip('\\n') for titles in review_title]\n",
        "\n",
        "    \n",
        "    rating = soup.find_all('i',class_='review-rating')\n",
        "    rate = []\n",
        "    for i in range(0,len(rating)):\n",
        "        rate.append(rating[i].get_text())\n",
        "\n",
        "    rate.pop(0)\n",
        "    rate.pop(0)\n",
        "\n",
        "    review = soup.find_all(\"span\",{\"data-hook\":\"review-body\"})\n",
        "\n",
        "    review_content = []\n",
        "    for i in range(0,len(review)):\n",
        "        review_content.append(review[i].get_text())\n",
        "\n",
        "    review_content[:] = [reviews.lstrip('\\n') for reviews in review_content]\n",
        "    review_content[:] = [reviews.rstrip('\\n') for reviews in review_content]\n",
        "    #print(review_content)\n",
        "\n",
        "    for i in range(len(cust_name)):\n",
        "      \n",
        "      df=df.append({'Customer Name':cust_name[i], 'Review title':review_title[i], 'Ratings':rate[i],'Reviews':review_content[i]},ignore_index=True)\n",
        "\n",
        "    u=u+1\n",
        "    count=count+1\n",
        "\n",
        "  #print(df)\n",
        "  return df;\n"
      ]
    },
    {
      "cell_type": "code",
      "execution_count": null,
      "metadata": {
        "id": "OAxzg_bjskBB"
      },
      "outputs": [],
      "source": [
        "#Calling the above defined method with a Redmi Mobile Amazon URL\n",
        "df=scraping_amazon_reviews(\"https://www.amazon.in/Redmi-Activ-Metallic-Purple-Storage/product-reviews/B09GFNZT24/ref=cm_cr_dp_d_show_all_btm?ie=UTF8&reviewerType=all_reviews\")"
      ]
    },
    {
      "cell_type": "code",
      "execution_count": null,
      "metadata": {
        "colab": {
          "base_uri": "https://localhost:8080/",
          "height": 423
        },
        "id": "vO9EXRP0ssQK",
        "outputId": "9d4cdef3-d399-4284-e55c-952d75d6fbee"
      },
      "outputs": [
        {
          "output_type": "execute_result",
          "data": {
            "text/plain": [
              "        Customer Name                                       Review title  \\\n",
              "0              Ashish                             DONT BUY THIS MOBILE .   \n",
              "1            ADIL.T.M               Redmi 9 hhoo, 9, 9🤩, 9, changed mind   \n",
              "2      Taufeeque Alam                                            Awesome   \n",
              "3     Amazon Customer                                   Worst experience   \n",
              "4       Sourabh Meena                                     Best in budget   \n",
              "...               ...                                                ...   \n",
              "1595  Amazon Customer                                   Worst experience   \n",
              "1596    Sourabh Meena                                     Best in budget   \n",
              "1597  Thirunavukarasu                                Think it before buy   \n",
              "1598        Anup mall  Everything is fine except camera which only wo...   \n",
              "1599      Monu Godara                                    Value for money   \n",
              "\n",
              "                 Ratings                                            Reviews  \n",
              "0     1.0 out of 5 stars  Don’t buy this product .Image quality is below...  \n",
              "1     4.0 out of 5 stars  Let’s make one thing clear immediately: the Xi...  \n",
              "2     5.0 out of 5 stars                                            Awesome  \n",
              "3     1.0 out of 5 stars  Very bad experience from Amazon. Very bad came...  \n",
              "4     5.0 out of 5 stars  Best buy at this price! The display quality is...  \n",
              "...                  ...                                                ...  \n",
              "1595  1.0 out of 5 stars  Very bad experience from Amazon. Very bad came...  \n",
              "1596  5.0 out of 5 stars  Best buy at this price! The display quality is...  \n",
              "1597  4.0 out of 5 stars  i didn't upload photo ....for any reason but i...  \n",
              "1598  1.0 out of 5 stars  This phone is not value for moneyIts a downgra...  \n",
              "1599  5.0 out of 5 stars  Good product value for money but ordering is t...  \n",
              "\n",
              "[1600 rows x 4 columns]"
            ],
            "text/html": [
              "\n",
              "  <div id=\"df-9cea0b27-286f-486d-bf87-a9262af55986\">\n",
              "    <div class=\"colab-df-container\">\n",
              "      <div>\n",
              "<style scoped>\n",
              "    .dataframe tbody tr th:only-of-type {\n",
              "        vertical-align: middle;\n",
              "    }\n",
              "\n",
              "    .dataframe tbody tr th {\n",
              "        vertical-align: top;\n",
              "    }\n",
              "\n",
              "    .dataframe thead th {\n",
              "        text-align: right;\n",
              "    }\n",
              "</style>\n",
              "<table border=\"1\" class=\"dataframe\">\n",
              "  <thead>\n",
              "    <tr style=\"text-align: right;\">\n",
              "      <th></th>\n",
              "      <th>Customer Name</th>\n",
              "      <th>Review title</th>\n",
              "      <th>Ratings</th>\n",
              "      <th>Reviews</th>\n",
              "    </tr>\n",
              "  </thead>\n",
              "  <tbody>\n",
              "    <tr>\n",
              "      <th>0</th>\n",
              "      <td>Ashish</td>\n",
              "      <td>DONT BUY THIS MOBILE .</td>\n",
              "      <td>1.0 out of 5 stars</td>\n",
              "      <td>Don’t buy this product .Image quality is below...</td>\n",
              "    </tr>\n",
              "    <tr>\n",
              "      <th>1</th>\n",
              "      <td>ADIL.T.M</td>\n",
              "      <td>Redmi 9 hhoo, 9, 9🤩, 9, changed mind</td>\n",
              "      <td>4.0 out of 5 stars</td>\n",
              "      <td>Let’s make one thing clear immediately: the Xi...</td>\n",
              "    </tr>\n",
              "    <tr>\n",
              "      <th>2</th>\n",
              "      <td>Taufeeque Alam</td>\n",
              "      <td>Awesome</td>\n",
              "      <td>5.0 out of 5 stars</td>\n",
              "      <td>Awesome</td>\n",
              "    </tr>\n",
              "    <tr>\n",
              "      <th>3</th>\n",
              "      <td>Amazon Customer</td>\n",
              "      <td>Worst experience</td>\n",
              "      <td>1.0 out of 5 stars</td>\n",
              "      <td>Very bad experience from Amazon. Very bad came...</td>\n",
              "    </tr>\n",
              "    <tr>\n",
              "      <th>4</th>\n",
              "      <td>Sourabh Meena</td>\n",
              "      <td>Best in budget</td>\n",
              "      <td>5.0 out of 5 stars</td>\n",
              "      <td>Best buy at this price! The display quality is...</td>\n",
              "    </tr>\n",
              "    <tr>\n",
              "      <th>...</th>\n",
              "      <td>...</td>\n",
              "      <td>...</td>\n",
              "      <td>...</td>\n",
              "      <td>...</td>\n",
              "    </tr>\n",
              "    <tr>\n",
              "      <th>1595</th>\n",
              "      <td>Amazon Customer</td>\n",
              "      <td>Worst experience</td>\n",
              "      <td>1.0 out of 5 stars</td>\n",
              "      <td>Very bad experience from Amazon. Very bad came...</td>\n",
              "    </tr>\n",
              "    <tr>\n",
              "      <th>1596</th>\n",
              "      <td>Sourabh Meena</td>\n",
              "      <td>Best in budget</td>\n",
              "      <td>5.0 out of 5 stars</td>\n",
              "      <td>Best buy at this price! The display quality is...</td>\n",
              "    </tr>\n",
              "    <tr>\n",
              "      <th>1597</th>\n",
              "      <td>Thirunavukarasu</td>\n",
              "      <td>Think it before buy</td>\n",
              "      <td>4.0 out of 5 stars</td>\n",
              "      <td>i didn't upload photo ....for any reason but i...</td>\n",
              "    </tr>\n",
              "    <tr>\n",
              "      <th>1598</th>\n",
              "      <td>Anup mall</td>\n",
              "      <td>Everything is fine except camera which only wo...</td>\n",
              "      <td>1.0 out of 5 stars</td>\n",
              "      <td>This phone is not value for moneyIts a downgra...</td>\n",
              "    </tr>\n",
              "    <tr>\n",
              "      <th>1599</th>\n",
              "      <td>Monu Godara</td>\n",
              "      <td>Value for money</td>\n",
              "      <td>5.0 out of 5 stars</td>\n",
              "      <td>Good product value for money but ordering is t...</td>\n",
              "    </tr>\n",
              "  </tbody>\n",
              "</table>\n",
              "<p>1600 rows × 4 columns</p>\n",
              "</div>\n",
              "      <button class=\"colab-df-convert\" onclick=\"convertToInteractive('df-9cea0b27-286f-486d-bf87-a9262af55986')\"\n",
              "              title=\"Convert this dataframe to an interactive table.\"\n",
              "              style=\"display:none;\">\n",
              "        \n",
              "  <svg xmlns=\"http://www.w3.org/2000/svg\" height=\"24px\"viewBox=\"0 0 24 24\"\n",
              "       width=\"24px\">\n",
              "    <path d=\"M0 0h24v24H0V0z\" fill=\"none\"/>\n",
              "    <path d=\"M18.56 5.44l.94 2.06.94-2.06 2.06-.94-2.06-.94-.94-2.06-.94 2.06-2.06.94zm-11 1L8.5 8.5l.94-2.06 2.06-.94-2.06-.94L8.5 2.5l-.94 2.06-2.06.94zm10 10l.94 2.06.94-2.06 2.06-.94-2.06-.94-.94-2.06-.94 2.06-2.06.94z\"/><path d=\"M17.41 7.96l-1.37-1.37c-.4-.4-.92-.59-1.43-.59-.52 0-1.04.2-1.43.59L10.3 9.45l-7.72 7.72c-.78.78-.78 2.05 0 2.83L4 21.41c.39.39.9.59 1.41.59.51 0 1.02-.2 1.41-.59l7.78-7.78 2.81-2.81c.8-.78.8-2.07 0-2.86zM5.41 20L4 18.59l7.72-7.72 1.47 1.35L5.41 20z\"/>\n",
              "  </svg>\n",
              "      </button>\n",
              "      \n",
              "  <style>\n",
              "    .colab-df-container {\n",
              "      display:flex;\n",
              "      flex-wrap:wrap;\n",
              "      gap: 12px;\n",
              "    }\n",
              "\n",
              "    .colab-df-convert {\n",
              "      background-color: #E8F0FE;\n",
              "      border: none;\n",
              "      border-radius: 50%;\n",
              "      cursor: pointer;\n",
              "      display: none;\n",
              "      fill: #1967D2;\n",
              "      height: 32px;\n",
              "      padding: 0 0 0 0;\n",
              "      width: 32px;\n",
              "    }\n",
              "\n",
              "    .colab-df-convert:hover {\n",
              "      background-color: #E2EBFA;\n",
              "      box-shadow: 0px 1px 2px rgba(60, 64, 67, 0.3), 0px 1px 3px 1px rgba(60, 64, 67, 0.15);\n",
              "      fill: #174EA6;\n",
              "    }\n",
              "\n",
              "    [theme=dark] .colab-df-convert {\n",
              "      background-color: #3B4455;\n",
              "      fill: #D2E3FC;\n",
              "    }\n",
              "\n",
              "    [theme=dark] .colab-df-convert:hover {\n",
              "      background-color: #434B5C;\n",
              "      box-shadow: 0px 1px 3px 1px rgba(0, 0, 0, 0.15);\n",
              "      filter: drop-shadow(0px 1px 2px rgba(0, 0, 0, 0.3));\n",
              "      fill: #FFFFFF;\n",
              "    }\n",
              "  </style>\n",
              "\n",
              "      <script>\n",
              "        const buttonEl =\n",
              "          document.querySelector('#df-9cea0b27-286f-486d-bf87-a9262af55986 button.colab-df-convert');\n",
              "        buttonEl.style.display =\n",
              "          google.colab.kernel.accessAllowed ? 'block' : 'none';\n",
              "\n",
              "        async function convertToInteractive(key) {\n",
              "          const element = document.querySelector('#df-9cea0b27-286f-486d-bf87-a9262af55986');\n",
              "          const dataTable =\n",
              "            await google.colab.kernel.invokeFunction('convertToInteractive',\n",
              "                                                     [key], {});\n",
              "          if (!dataTable) return;\n",
              "\n",
              "          const docLinkHtml = 'Like what you see? Visit the ' +\n",
              "            '<a target=\"_blank\" href=https://colab.research.google.com/notebooks/data_table.ipynb>data table notebook</a>'\n",
              "            + ' to learn more about interactive tables.';\n",
              "          element.innerHTML = '';\n",
              "          dataTable['output_type'] = 'display_data';\n",
              "          await google.colab.output.renderOutput(dataTable, element);\n",
              "          const docLink = document.createElement('div');\n",
              "          docLink.innerHTML = docLinkHtml;\n",
              "          element.appendChild(docLink);\n",
              "        }\n",
              "      </script>\n",
              "    </div>\n",
              "  </div>\n",
              "  "
            ]
          },
          "metadata": {},
          "execution_count": 6
        }
      ],
      "source": [
        "#Dispalying the generated dataframe\n",
        "df"
      ]
    },
    {
      "cell_type": "code",
      "execution_count": null,
      "metadata": {
        "id": "KuKXBfz1zpQl"
      },
      "outputs": [],
      "source": [
        "#Extract the ratings as a float value from the above Rating column and create a separate column in the dataframe for float rating\n",
        "extracted_ratings=[]\n",
        "for i in range(len(df)):\n",
        "  for j in range(len(df['Ratings'][i])):\n",
        "    if df['Ratings'][i][j]==\" \":\n",
        "      count=j\n",
        "      break;\n",
        "  #print(count)\n",
        "\n",
        "  #print(df_sorted_price['overall rating'][i][:count])\n",
        "  extracted_ratings.append(float(df['Ratings'][i][:count]))\n"
      ]
    },
    {
      "cell_type": "code",
      "execution_count": null,
      "metadata": {
        "id": "UIFU1rN6zqYy"
      },
      "outputs": [],
      "source": [
        "#Append the extracted ratings column to the dataframe\n",
        "df['extracted ratings']=extracted_ratings"
      ]
    },
    {
      "cell_type": "code",
      "execution_count": null,
      "metadata": {
        "colab": {
          "base_uri": "https://localhost:8080/",
          "height": 658
        },
        "id": "BxnFgxynzqbi",
        "outputId": "7def3d97-7452-4cb4-efab-d94a30f5c97a"
      },
      "outputs": [
        {
          "output_type": "execute_result",
          "data": {
            "text/plain": [
              "        Customer Name                                       Review title  \\\n",
              "0              Ashish                             DONT BUY THIS MOBILE .   \n",
              "1            ADIL.T.M               Redmi 9 hhoo, 9, 9🤩, 9, changed mind   \n",
              "2      Taufeeque Alam                                            Awesome   \n",
              "3     Amazon Customer                                   Worst experience   \n",
              "4       Sourabh Meena                                     Best in budget   \n",
              "...               ...                                                ...   \n",
              "1595  Amazon Customer                                   Worst experience   \n",
              "1596    Sourabh Meena                                     Best in budget   \n",
              "1597  Thirunavukarasu                                Think it before buy   \n",
              "1598        Anup mall  Everything is fine except camera which only wo...   \n",
              "1599      Monu Godara                                    Value for money   \n",
              "\n",
              "                 Ratings                                            Reviews  \\\n",
              "0     1.0 out of 5 stars  Don’t buy this product .Image quality is below...   \n",
              "1     4.0 out of 5 stars  Let’s make one thing clear immediately: the Xi...   \n",
              "2     5.0 out of 5 stars                                            Awesome   \n",
              "3     1.0 out of 5 stars  Very bad experience from Amazon. Very bad came...   \n",
              "4     5.0 out of 5 stars  Best buy at this price! The display quality is...   \n",
              "...                  ...                                                ...   \n",
              "1595  1.0 out of 5 stars  Very bad experience from Amazon. Very bad came...   \n",
              "1596  5.0 out of 5 stars  Best buy at this price! The display quality is...   \n",
              "1597  4.0 out of 5 stars  i didn't upload photo ....for any reason but i...   \n",
              "1598  1.0 out of 5 stars  This phone is not value for moneyIts a downgra...   \n",
              "1599  5.0 out of 5 stars  Good product value for money but ordering is t...   \n",
              "\n",
              "      extracted ratings  \n",
              "0                   1.0  \n",
              "1                   4.0  \n",
              "2                   5.0  \n",
              "3                   1.0  \n",
              "4                   5.0  \n",
              "...                 ...  \n",
              "1595                1.0  \n",
              "1596                5.0  \n",
              "1597                4.0  \n",
              "1598                1.0  \n",
              "1599                5.0  \n",
              "\n",
              "[1600 rows x 5 columns]"
            ],
            "text/html": [
              "\n",
              "  <div id=\"df-727e7d11-0bb8-4e71-a6d2-2d69e0f8a1b6\">\n",
              "    <div class=\"colab-df-container\">\n",
              "      <div>\n",
              "<style scoped>\n",
              "    .dataframe tbody tr th:only-of-type {\n",
              "        vertical-align: middle;\n",
              "    }\n",
              "\n",
              "    .dataframe tbody tr th {\n",
              "        vertical-align: top;\n",
              "    }\n",
              "\n",
              "    .dataframe thead th {\n",
              "        text-align: right;\n",
              "    }\n",
              "</style>\n",
              "<table border=\"1\" class=\"dataframe\">\n",
              "  <thead>\n",
              "    <tr style=\"text-align: right;\">\n",
              "      <th></th>\n",
              "      <th>Customer Name</th>\n",
              "      <th>Review title</th>\n",
              "      <th>Ratings</th>\n",
              "      <th>Reviews</th>\n",
              "      <th>extracted ratings</th>\n",
              "    </tr>\n",
              "  </thead>\n",
              "  <tbody>\n",
              "    <tr>\n",
              "      <th>0</th>\n",
              "      <td>Ashish</td>\n",
              "      <td>DONT BUY THIS MOBILE .</td>\n",
              "      <td>1.0 out of 5 stars</td>\n",
              "      <td>Don’t buy this product .Image quality is below...</td>\n",
              "      <td>1.0</td>\n",
              "    </tr>\n",
              "    <tr>\n",
              "      <th>1</th>\n",
              "      <td>ADIL.T.M</td>\n",
              "      <td>Redmi 9 hhoo, 9, 9🤩, 9, changed mind</td>\n",
              "      <td>4.0 out of 5 stars</td>\n",
              "      <td>Let’s make one thing clear immediately: the Xi...</td>\n",
              "      <td>4.0</td>\n",
              "    </tr>\n",
              "    <tr>\n",
              "      <th>2</th>\n",
              "      <td>Taufeeque Alam</td>\n",
              "      <td>Awesome</td>\n",
              "      <td>5.0 out of 5 stars</td>\n",
              "      <td>Awesome</td>\n",
              "      <td>5.0</td>\n",
              "    </tr>\n",
              "    <tr>\n",
              "      <th>3</th>\n",
              "      <td>Amazon Customer</td>\n",
              "      <td>Worst experience</td>\n",
              "      <td>1.0 out of 5 stars</td>\n",
              "      <td>Very bad experience from Amazon. Very bad came...</td>\n",
              "      <td>1.0</td>\n",
              "    </tr>\n",
              "    <tr>\n",
              "      <th>4</th>\n",
              "      <td>Sourabh Meena</td>\n",
              "      <td>Best in budget</td>\n",
              "      <td>5.0 out of 5 stars</td>\n",
              "      <td>Best buy at this price! The display quality is...</td>\n",
              "      <td>5.0</td>\n",
              "    </tr>\n",
              "    <tr>\n",
              "      <th>...</th>\n",
              "      <td>...</td>\n",
              "      <td>...</td>\n",
              "      <td>...</td>\n",
              "      <td>...</td>\n",
              "      <td>...</td>\n",
              "    </tr>\n",
              "    <tr>\n",
              "      <th>1595</th>\n",
              "      <td>Amazon Customer</td>\n",
              "      <td>Worst experience</td>\n",
              "      <td>1.0 out of 5 stars</td>\n",
              "      <td>Very bad experience from Amazon. Very bad came...</td>\n",
              "      <td>1.0</td>\n",
              "    </tr>\n",
              "    <tr>\n",
              "      <th>1596</th>\n",
              "      <td>Sourabh Meena</td>\n",
              "      <td>Best in budget</td>\n",
              "      <td>5.0 out of 5 stars</td>\n",
              "      <td>Best buy at this price! The display quality is...</td>\n",
              "      <td>5.0</td>\n",
              "    </tr>\n",
              "    <tr>\n",
              "      <th>1597</th>\n",
              "      <td>Thirunavukarasu</td>\n",
              "      <td>Think it before buy</td>\n",
              "      <td>4.0 out of 5 stars</td>\n",
              "      <td>i didn't upload photo ....for any reason but i...</td>\n",
              "      <td>4.0</td>\n",
              "    </tr>\n",
              "    <tr>\n",
              "      <th>1598</th>\n",
              "      <td>Anup mall</td>\n",
              "      <td>Everything is fine except camera which only wo...</td>\n",
              "      <td>1.0 out of 5 stars</td>\n",
              "      <td>This phone is not value for moneyIts a downgra...</td>\n",
              "      <td>1.0</td>\n",
              "    </tr>\n",
              "    <tr>\n",
              "      <th>1599</th>\n",
              "      <td>Monu Godara</td>\n",
              "      <td>Value for money</td>\n",
              "      <td>5.0 out of 5 stars</td>\n",
              "      <td>Good product value for money but ordering is t...</td>\n",
              "      <td>5.0</td>\n",
              "    </tr>\n",
              "  </tbody>\n",
              "</table>\n",
              "<p>1600 rows × 5 columns</p>\n",
              "</div>\n",
              "      <button class=\"colab-df-convert\" onclick=\"convertToInteractive('df-727e7d11-0bb8-4e71-a6d2-2d69e0f8a1b6')\"\n",
              "              title=\"Convert this dataframe to an interactive table.\"\n",
              "              style=\"display:none;\">\n",
              "        \n",
              "  <svg xmlns=\"http://www.w3.org/2000/svg\" height=\"24px\"viewBox=\"0 0 24 24\"\n",
              "       width=\"24px\">\n",
              "    <path d=\"M0 0h24v24H0V0z\" fill=\"none\"/>\n",
              "    <path d=\"M18.56 5.44l.94 2.06.94-2.06 2.06-.94-2.06-.94-.94-2.06-.94 2.06-2.06.94zm-11 1L8.5 8.5l.94-2.06 2.06-.94-2.06-.94L8.5 2.5l-.94 2.06-2.06.94zm10 10l.94 2.06.94-2.06 2.06-.94-2.06-.94-.94-2.06-.94 2.06-2.06.94z\"/><path d=\"M17.41 7.96l-1.37-1.37c-.4-.4-.92-.59-1.43-.59-.52 0-1.04.2-1.43.59L10.3 9.45l-7.72 7.72c-.78.78-.78 2.05 0 2.83L4 21.41c.39.39.9.59 1.41.59.51 0 1.02-.2 1.41-.59l7.78-7.78 2.81-2.81c.8-.78.8-2.07 0-2.86zM5.41 20L4 18.59l7.72-7.72 1.47 1.35L5.41 20z\"/>\n",
              "  </svg>\n",
              "      </button>\n",
              "      \n",
              "  <style>\n",
              "    .colab-df-container {\n",
              "      display:flex;\n",
              "      flex-wrap:wrap;\n",
              "      gap: 12px;\n",
              "    }\n",
              "\n",
              "    .colab-df-convert {\n",
              "      background-color: #E8F0FE;\n",
              "      border: none;\n",
              "      border-radius: 50%;\n",
              "      cursor: pointer;\n",
              "      display: none;\n",
              "      fill: #1967D2;\n",
              "      height: 32px;\n",
              "      padding: 0 0 0 0;\n",
              "      width: 32px;\n",
              "    }\n",
              "\n",
              "    .colab-df-convert:hover {\n",
              "      background-color: #E2EBFA;\n",
              "      box-shadow: 0px 1px 2px rgba(60, 64, 67, 0.3), 0px 1px 3px 1px rgba(60, 64, 67, 0.15);\n",
              "      fill: #174EA6;\n",
              "    }\n",
              "\n",
              "    [theme=dark] .colab-df-convert {\n",
              "      background-color: #3B4455;\n",
              "      fill: #D2E3FC;\n",
              "    }\n",
              "\n",
              "    [theme=dark] .colab-df-convert:hover {\n",
              "      background-color: #434B5C;\n",
              "      box-shadow: 0px 1px 3px 1px rgba(0, 0, 0, 0.15);\n",
              "      filter: drop-shadow(0px 1px 2px rgba(0, 0, 0, 0.3));\n",
              "      fill: #FFFFFF;\n",
              "    }\n",
              "  </style>\n",
              "\n",
              "      <script>\n",
              "        const buttonEl =\n",
              "          document.querySelector('#df-727e7d11-0bb8-4e71-a6d2-2d69e0f8a1b6 button.colab-df-convert');\n",
              "        buttonEl.style.display =\n",
              "          google.colab.kernel.accessAllowed ? 'block' : 'none';\n",
              "\n",
              "        async function convertToInteractive(key) {\n",
              "          const element = document.querySelector('#df-727e7d11-0bb8-4e71-a6d2-2d69e0f8a1b6');\n",
              "          const dataTable =\n",
              "            await google.colab.kernel.invokeFunction('convertToInteractive',\n",
              "                                                     [key], {});\n",
              "          if (!dataTable) return;\n",
              "\n",
              "          const docLinkHtml = 'Like what you see? Visit the ' +\n",
              "            '<a target=\"_blank\" href=https://colab.research.google.com/notebooks/data_table.ipynb>data table notebook</a>'\n",
              "            + ' to learn more about interactive tables.';\n",
              "          element.innerHTML = '';\n",
              "          dataTable['output_type'] = 'display_data';\n",
              "          await google.colab.output.renderOutput(dataTable, element);\n",
              "          const docLink = document.createElement('div');\n",
              "          docLink.innerHTML = docLinkHtml;\n",
              "          element.appendChild(docLink);\n",
              "        }\n",
              "      </script>\n",
              "    </div>\n",
              "  </div>\n",
              "  "
            ]
          },
          "metadata": {},
          "execution_count": 9
        }
      ],
      "source": [
        "df"
      ]
    },
    {
      "cell_type": "code",
      "execution_count": null,
      "metadata": {
        "id": "wYITEHaXtci4"
      },
      "outputs": [],
      "source": [
        "#Method to generate the polarity score of a text\n",
        "from textblob import TextBlob\n",
        "# function to calculate polarity\n",
        "def getPolarity(review):\n",
        "  return TextBlob(review).sentiment.polarity"
      ]
    },
    {
      "cell_type": "code",
      "execution_count": null,
      "metadata": {
        "id": "hkahmRbzt60e"
      },
      "outputs": [],
      "source": [
        "#Get the polarity of each word in the review and calculate sum of polarity\n",
        "total_words_polarity_score=[]\n",
        "for i in range(len(df)):\n",
        "  words=df['Reviews'][i].split(' ')\n",
        "\n",
        "  words_polarity=0.0\n",
        "  for word in words:\n",
        "    if word==\"\":\n",
        "      polarity=0.0\n",
        "    else:\n",
        "      polarity=getPolarity(word)\n",
        "    \n",
        "    words_polarity=words_polarity+float(polarity)\n",
        "\n",
        "  total_words_polarity_score.append(words_polarity)\n",
        "  "
      ]
    },
    {
      "cell_type": "code",
      "execution_count": null,
      "metadata": {
        "id": "GBShJyjuuNFp"
      },
      "outputs": [],
      "source": [
        "#Append the total words polarity score in the dataframe\n",
        "df['total_words_polarity_score']=total_words_polarity_score"
      ]
    },
    {
      "cell_type": "code",
      "execution_count": null,
      "metadata": {
        "colab": {
          "base_uri": "https://localhost:8080/"
        },
        "id": "GAg8SkFGud_f",
        "outputId": "74c7607c-5ac1-4c3c-c6fa-a72921b3099d"
      },
      "outputs": [
        {
          "output_type": "stream",
          "name": "stdout",
          "text": [
            "-0.9999999999999997\n",
            "12.348809523809516\n"
          ]
        }
      ],
      "source": [
        "#Get the Maximum and minimum value of polarity score in the dataframe\n",
        "#This will be further used for normalization\n",
        "minimum_value=df['total_words_polarity_score'].min()\n",
        "maximum_value=df['total_words_polarity_score'].max()\n",
        "print(minimum_value)\n",
        "print(maximum_value)"
      ]
    },
    {
      "cell_type": "code",
      "execution_count": null,
      "metadata": {
        "colab": {
          "base_uri": "https://localhost:8080/"
        },
        "id": "EOcbLuH30BjL",
        "outputId": "8a0f9bdd-ab12-4868-8317-bbba8c7aba35"
      },
      "outputs": [
        {
          "output_type": "execute_result",
          "data": {
            "text/plain": [
              "Index(['Customer Name', 'Review title', 'Ratings', 'Reviews',\n",
              "       'extracted ratings', 'total_words_polarity_score'],\n",
              "      dtype='object')"
            ]
          },
          "metadata": {},
          "execution_count": 14
        }
      ],
      "source": [
        "df.columns"
      ]
    },
    {
      "cell_type": "code",
      "execution_count": null,
      "metadata": {
        "id": "pdY7f68eybUv"
      },
      "outputs": [],
      "source": [
        "#Normalization on polarity score column- formula from research paper- \n",
        "#𝑁𝑃𝑅𝑆 = 𝑆𝑐𝑜𝑟𝑒−𝑀𝐼𝑁 / √(𝑃𝑟𝑜𝑑𝑢𝑐𝑡−𝑟𝑎𝑡𝑖𝑛𝑔).(𝑀𝐴𝑋−𝑀𝐼𝑁)\n",
        "normalized_polarized_score=[]\n",
        "import math\n",
        "for i in range(len(df)):\n",
        "  temp=(float(df['total_words_polarity_score'][i])-minimum_value)/math.sqrt(df['extracted ratings'][i]*(maximum_value-minimum_value))\n",
        "  #print(math.sqrt(df['extracted ratings'][i]*(maximum_value-minimum_value)))\n",
        "  #temp_value=(float(df['total_words_polarity_score'][i])-minimum_value)/math.sqrt((df['extracted ratings'][i]-(maximum_value-minimum_value)))\n",
        "  normalized_polarized_score.append(temp)\n"
      ]
    },
    {
      "cell_type": "code",
      "execution_count": null,
      "metadata": {
        "id": "yApaPnAn2YFg"
      },
      "outputs": [],
      "source": [
        "#append the normalized polarity values in the dataframe\n",
        "df['normalized_polarized_score']=normalized_polarized_score"
      ]
    },
    {
      "cell_type": "code",
      "execution_count": null,
      "metadata": {
        "colab": {
          "base_uri": "https://localhost:8080/",
          "height": 988
        },
        "id": "lKPBtntL2erh",
        "outputId": "011658e5-1d81-4a18-e431-30fda9ff87e3"
      },
      "outputs": [
        {
          "output_type": "execute_result",
          "data": {
            "text/plain": [
              "        Customer Name                                       Review title  \\\n",
              "0              Ashish                             DONT BUY THIS MOBILE .   \n",
              "1            ADIL.T.M               Redmi 9 hhoo, 9, 9🤩, 9, changed mind   \n",
              "2      Taufeeque Alam                                            Awesome   \n",
              "3     Amazon Customer                                   Worst experience   \n",
              "4       Sourabh Meena                                     Best in budget   \n",
              "...               ...                                                ...   \n",
              "1595  Amazon Customer                                   Worst experience   \n",
              "1596    Sourabh Meena                                     Best in budget   \n",
              "1597  Thirunavukarasu                                Think it before buy   \n",
              "1598        Anup mall  Everything is fine except camera which only wo...   \n",
              "1599      Monu Godara                                    Value for money   \n",
              "\n",
              "                 Ratings                                            Reviews  \\\n",
              "0     1.0 out of 5 stars  Don’t buy this product .Image quality is below...   \n",
              "1     4.0 out of 5 stars  Let’s make one thing clear immediately: the Xi...   \n",
              "2     5.0 out of 5 stars                                            Awesome   \n",
              "3     1.0 out of 5 stars  Very bad experience from Amazon. Very bad came...   \n",
              "4     5.0 out of 5 stars  Best buy at this price! The display quality is...   \n",
              "...                  ...                                                ...   \n",
              "1595  1.0 out of 5 stars  Very bad experience from Amazon. Very bad came...   \n",
              "1596  5.0 out of 5 stars  Best buy at this price! The display quality is...   \n",
              "1597  4.0 out of 5 stars  i didn't upload photo ....for any reason but i...   \n",
              "1598  1.0 out of 5 stars  This phone is not value for moneyIts a downgra...   \n",
              "1599  5.0 out of 5 stars  Good product value for money but ordering is t...   \n",
              "\n",
              "      extracted ratings  total_words_polarity_score  \\\n",
              "0                   1.0                    -0.65000   \n",
              "1                   4.0                    12.34881   \n",
              "2                   5.0                     1.00000   \n",
              "3                   1.0                    -1.00000   \n",
              "4                   5.0                     1.57500   \n",
              "...                 ...                         ...   \n",
              "1595                1.0                    -1.00000   \n",
              "1596                5.0                     1.57500   \n",
              "1597                4.0                     1.40000   \n",
              "1598                1.0                     0.90000   \n",
              "1599                5.0                     0.20000   \n",
              "\n",
              "      normalized_polarized_score  \n",
              "0                       0.095796  \n",
              "1                       1.826801  \n",
              "2                       0.244807  \n",
              "3                       0.000000  \n",
              "4                       0.315189  \n",
              "...                          ...  \n",
              "1595                    0.000000  \n",
              "1596                    0.315189  \n",
              "1597                    0.328443  \n",
              "1598                    0.520035  \n",
              "1599                    0.146884  \n",
              "\n",
              "[1600 rows x 7 columns]"
            ],
            "text/html": [
              "\n",
              "  <div id=\"df-2d0de6a9-79f1-4c6f-80bd-5bf88389c38e\">\n",
              "    <div class=\"colab-df-container\">\n",
              "      <div>\n",
              "<style scoped>\n",
              "    .dataframe tbody tr th:only-of-type {\n",
              "        vertical-align: middle;\n",
              "    }\n",
              "\n",
              "    .dataframe tbody tr th {\n",
              "        vertical-align: top;\n",
              "    }\n",
              "\n",
              "    .dataframe thead th {\n",
              "        text-align: right;\n",
              "    }\n",
              "</style>\n",
              "<table border=\"1\" class=\"dataframe\">\n",
              "  <thead>\n",
              "    <tr style=\"text-align: right;\">\n",
              "      <th></th>\n",
              "      <th>Customer Name</th>\n",
              "      <th>Review title</th>\n",
              "      <th>Ratings</th>\n",
              "      <th>Reviews</th>\n",
              "      <th>extracted ratings</th>\n",
              "      <th>total_words_polarity_score</th>\n",
              "      <th>normalized_polarized_score</th>\n",
              "    </tr>\n",
              "  </thead>\n",
              "  <tbody>\n",
              "    <tr>\n",
              "      <th>0</th>\n",
              "      <td>Ashish</td>\n",
              "      <td>DONT BUY THIS MOBILE .</td>\n",
              "      <td>1.0 out of 5 stars</td>\n",
              "      <td>Don’t buy this product .Image quality is below...</td>\n",
              "      <td>1.0</td>\n",
              "      <td>-0.65000</td>\n",
              "      <td>0.095796</td>\n",
              "    </tr>\n",
              "    <tr>\n",
              "      <th>1</th>\n",
              "      <td>ADIL.T.M</td>\n",
              "      <td>Redmi 9 hhoo, 9, 9🤩, 9, changed mind</td>\n",
              "      <td>4.0 out of 5 stars</td>\n",
              "      <td>Let’s make one thing clear immediately: the Xi...</td>\n",
              "      <td>4.0</td>\n",
              "      <td>12.34881</td>\n",
              "      <td>1.826801</td>\n",
              "    </tr>\n",
              "    <tr>\n",
              "      <th>2</th>\n",
              "      <td>Taufeeque Alam</td>\n",
              "      <td>Awesome</td>\n",
              "      <td>5.0 out of 5 stars</td>\n",
              "      <td>Awesome</td>\n",
              "      <td>5.0</td>\n",
              "      <td>1.00000</td>\n",
              "      <td>0.244807</td>\n",
              "    </tr>\n",
              "    <tr>\n",
              "      <th>3</th>\n",
              "      <td>Amazon Customer</td>\n",
              "      <td>Worst experience</td>\n",
              "      <td>1.0 out of 5 stars</td>\n",
              "      <td>Very bad experience from Amazon. Very bad came...</td>\n",
              "      <td>1.0</td>\n",
              "      <td>-1.00000</td>\n",
              "      <td>0.000000</td>\n",
              "    </tr>\n",
              "    <tr>\n",
              "      <th>4</th>\n",
              "      <td>Sourabh Meena</td>\n",
              "      <td>Best in budget</td>\n",
              "      <td>5.0 out of 5 stars</td>\n",
              "      <td>Best buy at this price! The display quality is...</td>\n",
              "      <td>5.0</td>\n",
              "      <td>1.57500</td>\n",
              "      <td>0.315189</td>\n",
              "    </tr>\n",
              "    <tr>\n",
              "      <th>...</th>\n",
              "      <td>...</td>\n",
              "      <td>...</td>\n",
              "      <td>...</td>\n",
              "      <td>...</td>\n",
              "      <td>...</td>\n",
              "      <td>...</td>\n",
              "      <td>...</td>\n",
              "    </tr>\n",
              "    <tr>\n",
              "      <th>1595</th>\n",
              "      <td>Amazon Customer</td>\n",
              "      <td>Worst experience</td>\n",
              "      <td>1.0 out of 5 stars</td>\n",
              "      <td>Very bad experience from Amazon. Very bad came...</td>\n",
              "      <td>1.0</td>\n",
              "      <td>-1.00000</td>\n",
              "      <td>0.000000</td>\n",
              "    </tr>\n",
              "    <tr>\n",
              "      <th>1596</th>\n",
              "      <td>Sourabh Meena</td>\n",
              "      <td>Best in budget</td>\n",
              "      <td>5.0 out of 5 stars</td>\n",
              "      <td>Best buy at this price! The display quality is...</td>\n",
              "      <td>5.0</td>\n",
              "      <td>1.57500</td>\n",
              "      <td>0.315189</td>\n",
              "    </tr>\n",
              "    <tr>\n",
              "      <th>1597</th>\n",
              "      <td>Thirunavukarasu</td>\n",
              "      <td>Think it before buy</td>\n",
              "      <td>4.0 out of 5 stars</td>\n",
              "      <td>i didn't upload photo ....for any reason but i...</td>\n",
              "      <td>4.0</td>\n",
              "      <td>1.40000</td>\n",
              "      <td>0.328443</td>\n",
              "    </tr>\n",
              "    <tr>\n",
              "      <th>1598</th>\n",
              "      <td>Anup mall</td>\n",
              "      <td>Everything is fine except camera which only wo...</td>\n",
              "      <td>1.0 out of 5 stars</td>\n",
              "      <td>This phone is not value for moneyIts a downgra...</td>\n",
              "      <td>1.0</td>\n",
              "      <td>0.90000</td>\n",
              "      <td>0.520035</td>\n",
              "    </tr>\n",
              "    <tr>\n",
              "      <th>1599</th>\n",
              "      <td>Monu Godara</td>\n",
              "      <td>Value for money</td>\n",
              "      <td>5.0 out of 5 stars</td>\n",
              "      <td>Good product value for money but ordering is t...</td>\n",
              "      <td>5.0</td>\n",
              "      <td>0.20000</td>\n",
              "      <td>0.146884</td>\n",
              "    </tr>\n",
              "  </tbody>\n",
              "</table>\n",
              "<p>1600 rows × 7 columns</p>\n",
              "</div>\n",
              "      <button class=\"colab-df-convert\" onclick=\"convertToInteractive('df-2d0de6a9-79f1-4c6f-80bd-5bf88389c38e')\"\n",
              "              title=\"Convert this dataframe to an interactive table.\"\n",
              "              style=\"display:none;\">\n",
              "        \n",
              "  <svg xmlns=\"http://www.w3.org/2000/svg\" height=\"24px\"viewBox=\"0 0 24 24\"\n",
              "       width=\"24px\">\n",
              "    <path d=\"M0 0h24v24H0V0z\" fill=\"none\"/>\n",
              "    <path d=\"M18.56 5.44l.94 2.06.94-2.06 2.06-.94-2.06-.94-.94-2.06-.94 2.06-2.06.94zm-11 1L8.5 8.5l.94-2.06 2.06-.94-2.06-.94L8.5 2.5l-.94 2.06-2.06.94zm10 10l.94 2.06.94-2.06 2.06-.94-2.06-.94-.94-2.06-.94 2.06-2.06.94z\"/><path d=\"M17.41 7.96l-1.37-1.37c-.4-.4-.92-.59-1.43-.59-.52 0-1.04.2-1.43.59L10.3 9.45l-7.72 7.72c-.78.78-.78 2.05 0 2.83L4 21.41c.39.39.9.59 1.41.59.51 0 1.02-.2 1.41-.59l7.78-7.78 2.81-2.81c.8-.78.8-2.07 0-2.86zM5.41 20L4 18.59l7.72-7.72 1.47 1.35L5.41 20z\"/>\n",
              "  </svg>\n",
              "      </button>\n",
              "      \n",
              "  <style>\n",
              "    .colab-df-container {\n",
              "      display:flex;\n",
              "      flex-wrap:wrap;\n",
              "      gap: 12px;\n",
              "    }\n",
              "\n",
              "    .colab-df-convert {\n",
              "      background-color: #E8F0FE;\n",
              "      border: none;\n",
              "      border-radius: 50%;\n",
              "      cursor: pointer;\n",
              "      display: none;\n",
              "      fill: #1967D2;\n",
              "      height: 32px;\n",
              "      padding: 0 0 0 0;\n",
              "      width: 32px;\n",
              "    }\n",
              "\n",
              "    .colab-df-convert:hover {\n",
              "      background-color: #E2EBFA;\n",
              "      box-shadow: 0px 1px 2px rgba(60, 64, 67, 0.3), 0px 1px 3px 1px rgba(60, 64, 67, 0.15);\n",
              "      fill: #174EA6;\n",
              "    }\n",
              "\n",
              "    [theme=dark] .colab-df-convert {\n",
              "      background-color: #3B4455;\n",
              "      fill: #D2E3FC;\n",
              "    }\n",
              "\n",
              "    [theme=dark] .colab-df-convert:hover {\n",
              "      background-color: #434B5C;\n",
              "      box-shadow: 0px 1px 3px 1px rgba(0, 0, 0, 0.15);\n",
              "      filter: drop-shadow(0px 1px 2px rgba(0, 0, 0, 0.3));\n",
              "      fill: #FFFFFF;\n",
              "    }\n",
              "  </style>\n",
              "\n",
              "      <script>\n",
              "        const buttonEl =\n",
              "          document.querySelector('#df-2d0de6a9-79f1-4c6f-80bd-5bf88389c38e button.colab-df-convert');\n",
              "        buttonEl.style.display =\n",
              "          google.colab.kernel.accessAllowed ? 'block' : 'none';\n",
              "\n",
              "        async function convertToInteractive(key) {\n",
              "          const element = document.querySelector('#df-2d0de6a9-79f1-4c6f-80bd-5bf88389c38e');\n",
              "          const dataTable =\n",
              "            await google.colab.kernel.invokeFunction('convertToInteractive',\n",
              "                                                     [key], {});\n",
              "          if (!dataTable) return;\n",
              "\n",
              "          const docLinkHtml = 'Like what you see? Visit the ' +\n",
              "            '<a target=\"_blank\" href=https://colab.research.google.com/notebooks/data_table.ipynb>data table notebook</a>'\n",
              "            + ' to learn more about interactive tables.';\n",
              "          element.innerHTML = '';\n",
              "          dataTable['output_type'] = 'display_data';\n",
              "          await google.colab.output.renderOutput(dataTable, element);\n",
              "          const docLink = document.createElement('div');\n",
              "          docLink.innerHTML = docLinkHtml;\n",
              "          element.appendChild(docLink);\n",
              "        }\n",
              "      </script>\n",
              "    </div>\n",
              "  </div>\n",
              "  "
            ]
          },
          "metadata": {},
          "execution_count": 17
        }
      ],
      "source": [
        "df"
      ]
    },
    {
      "cell_type": "code",
      "execution_count": null,
      "metadata": {
        "colab": {
          "base_uri": "https://localhost:8080/"
        },
        "id": "L-rnLzkQ3Pjs",
        "outputId": "21a6efa9-17e7-4fdf-a23f-fbe7b902518f"
      },
      "outputs": [
        {
          "output_type": "stream",
          "name": "stdout",
          "text": [
            "[nltk_data] Downloading package stopwords to /root/nltk_data...\n",
            "[nltk_data]   Unzipping corpora/stopwords.zip.\n",
            "[nltk_data] Downloading package punkt to /root/nltk_data...\n",
            "[nltk_data]   Unzipping tokenizers/punkt.zip.\n",
            "[nltk_data] Downloading package wordnet to /root/nltk_data...\n",
            "[nltk_data]   Unzipping corpora/wordnet.zip.\n"
          ]
        }
      ],
      "source": [
        "#import necessary libraries\n",
        "import os\n",
        "import pydrive\n",
        "import re\n",
        "from nltk.corpus import stopwords\n",
        "from gensim.parsing.preprocessing import remove_stopwords\n",
        "from nltk.stem import PorterStemmer\n",
        "from nltk.tokenize import word_tokenize\n",
        "ps = PorterStemmer()\n",
        "from nltk.stem import WordNetLemmatizer\n",
        "lemmatizer = WordNetLemmatizer()\n",
        "import nltk\n",
        "#nltk library for preprocessing\n",
        "nltk.download('stopwords')\n",
        "nltk.download('punkt')\n",
        "nltk.download('wordnet')\n",
        "stop_words = set(stopwords.words('english'))"
      ]
    },
    {
      "cell_type": "code",
      "execution_count": null,
      "metadata": {
        "id": "3WtfFREi2gYp"
      },
      "outputs": [],
      "source": [
        "#Preprocessing the reviews\n",
        "#remove whitespaces, Remove numerics, Remove special characters, Remove Stopwords, convert to lowercase\n",
        "preprocessed_query_list=[]\n",
        "for i in range(len(df)):\n",
        "  temp_review=df['Reviews'][i]\n",
        "  temp_review = temp_review.lower()\n",
        "  temp_review = re.sub(r'\\d+','',temp_review)\n",
        "  temp_review = re.sub(r'[^\\w\\s]','', temp_review)\n",
        "  temp_review= re.sub('[@_!#$%^&*()<>?/\\|}{~:]','',temp_review)\n",
        "  temp_review = temp_review.strip()\n",
        "  temp_review = remove_stopwords(temp_review)\n",
        "  words = word_tokenize(temp_review)\n",
        "  temp_string=\"\"\n",
        "  for word in words:\n",
        "    temp_string=temp_string+\" \"+(word)\n",
        "\n",
        "  preprocessed_query_list.append(temp_string)"
      ]
    },
    {
      "cell_type": "code",
      "execution_count": null,
      "metadata": {
        "id": "nJWM2Wsk3fcu"
      },
      "outputs": [],
      "source": [
        "#Append the preprocessed review to the dataframe\n",
        "df['preprocessed_query_list']=preprocessed_query_list"
      ]
    },
    {
      "cell_type": "code",
      "execution_count": null,
      "metadata": {
        "colab": {
          "base_uri": "https://localhost:8080/",
          "height": 1000
        },
        "id": "LjUg2BAu3kh9",
        "outputId": "e6d0ec66-39aa-4b1d-f093-b6f864a3dcca"
      },
      "outputs": [
        {
          "output_type": "execute_result",
          "data": {
            "text/plain": [
              "        Customer Name                                       Review title  \\\n",
              "0              Ashish                             DONT BUY THIS MOBILE .   \n",
              "1            ADIL.T.M               Redmi 9 hhoo, 9, 9🤩, 9, changed mind   \n",
              "2      Taufeeque Alam                                            Awesome   \n",
              "3     Amazon Customer                                   Worst experience   \n",
              "4       Sourabh Meena                                     Best in budget   \n",
              "...               ...                                                ...   \n",
              "1595  Amazon Customer                                   Worst experience   \n",
              "1596    Sourabh Meena                                     Best in budget   \n",
              "1597  Thirunavukarasu                                Think it before buy   \n",
              "1598        Anup mall  Everything is fine except camera which only wo...   \n",
              "1599      Monu Godara                                    Value for money   \n",
              "\n",
              "                 Ratings                                            Reviews  \\\n",
              "0     1.0 out of 5 stars  Don’t buy this product .Image quality is below...   \n",
              "1     4.0 out of 5 stars  Let’s make one thing clear immediately: the Xi...   \n",
              "2     5.0 out of 5 stars                                            Awesome   \n",
              "3     1.0 out of 5 stars  Very bad experience from Amazon. Very bad came...   \n",
              "4     5.0 out of 5 stars  Best buy at this price! The display quality is...   \n",
              "...                  ...                                                ...   \n",
              "1595  1.0 out of 5 stars  Very bad experience from Amazon. Very bad came...   \n",
              "1596  5.0 out of 5 stars  Best buy at this price! The display quality is...   \n",
              "1597  4.0 out of 5 stars  i didn't upload photo ....for any reason but i...   \n",
              "1598  1.0 out of 5 stars  This phone is not value for moneyIts a downgra...   \n",
              "1599  5.0 out of 5 stars  Good product value for money but ordering is t...   \n",
              "\n",
              "      extracted ratings  total_words_polarity_score  \\\n",
              "0                   1.0                    -0.65000   \n",
              "1                   4.0                    12.34881   \n",
              "2                   5.0                     1.00000   \n",
              "3                   1.0                    -1.00000   \n",
              "4                   5.0                     1.57500   \n",
              "...                 ...                         ...   \n",
              "1595                1.0                    -1.00000   \n",
              "1596                5.0                     1.57500   \n",
              "1597                4.0                     1.40000   \n",
              "1598                1.0                     0.90000   \n",
              "1599                5.0                     0.20000   \n",
              "\n",
              "      normalized_polarized_score  \\\n",
              "0                       0.095796   \n",
              "1                       1.826801   \n",
              "2                       0.244807   \n",
              "3                       0.000000   \n",
              "4                       0.315189   \n",
              "...                          ...   \n",
              "1595                    0.000000   \n",
              "1596                    0.315189   \n",
              "1597                    0.328443   \n",
              "1598                    0.520035   \n",
              "1599                    0.146884   \n",
              "\n",
              "                                preprocessed_query_list  \n",
              "0      dont buy product image quality average compar...  \n",
              "1      lets thing clear immediately xiaomi redmi pho...  \n",
              "2                                               awesome  \n",
              "3      bad experience amazon bad camera quality phon...  \n",
              "4      best buy price display quality amazing compla...  \n",
              "...                                                 ...  \n",
              "1595   bad experience amazon bad camera quality phon...  \n",
              "1596   best buy price display quality amazing compla...  \n",
              "1597   didnt upload photo reason mark display cam fi...  \n",
              "1598   phone value moneyits downgraded phone earlier...  \n",
              "1599   good product value money ordering difficult m...  \n",
              "\n",
              "[1600 rows x 8 columns]"
            ],
            "text/html": [
              "\n",
              "  <div id=\"df-22235d95-3fd9-4b28-bc18-a2a09ab0e7e1\">\n",
              "    <div class=\"colab-df-container\">\n",
              "      <div>\n",
              "<style scoped>\n",
              "    .dataframe tbody tr th:only-of-type {\n",
              "        vertical-align: middle;\n",
              "    }\n",
              "\n",
              "    .dataframe tbody tr th {\n",
              "        vertical-align: top;\n",
              "    }\n",
              "\n",
              "    .dataframe thead th {\n",
              "        text-align: right;\n",
              "    }\n",
              "</style>\n",
              "<table border=\"1\" class=\"dataframe\">\n",
              "  <thead>\n",
              "    <tr style=\"text-align: right;\">\n",
              "      <th></th>\n",
              "      <th>Customer Name</th>\n",
              "      <th>Review title</th>\n",
              "      <th>Ratings</th>\n",
              "      <th>Reviews</th>\n",
              "      <th>extracted ratings</th>\n",
              "      <th>total_words_polarity_score</th>\n",
              "      <th>normalized_polarized_score</th>\n",
              "      <th>preprocessed_query_list</th>\n",
              "    </tr>\n",
              "  </thead>\n",
              "  <tbody>\n",
              "    <tr>\n",
              "      <th>0</th>\n",
              "      <td>Ashish</td>\n",
              "      <td>DONT BUY THIS MOBILE .</td>\n",
              "      <td>1.0 out of 5 stars</td>\n",
              "      <td>Don’t buy this product .Image quality is below...</td>\n",
              "      <td>1.0</td>\n",
              "      <td>-0.65000</td>\n",
              "      <td>0.095796</td>\n",
              "      <td>dont buy product image quality average compar...</td>\n",
              "    </tr>\n",
              "    <tr>\n",
              "      <th>1</th>\n",
              "      <td>ADIL.T.M</td>\n",
              "      <td>Redmi 9 hhoo, 9, 9🤩, 9, changed mind</td>\n",
              "      <td>4.0 out of 5 stars</td>\n",
              "      <td>Let’s make one thing clear immediately: the Xi...</td>\n",
              "      <td>4.0</td>\n",
              "      <td>12.34881</td>\n",
              "      <td>1.826801</td>\n",
              "      <td>lets thing clear immediately xiaomi redmi pho...</td>\n",
              "    </tr>\n",
              "    <tr>\n",
              "      <th>2</th>\n",
              "      <td>Taufeeque Alam</td>\n",
              "      <td>Awesome</td>\n",
              "      <td>5.0 out of 5 stars</td>\n",
              "      <td>Awesome</td>\n",
              "      <td>5.0</td>\n",
              "      <td>1.00000</td>\n",
              "      <td>0.244807</td>\n",
              "      <td>awesome</td>\n",
              "    </tr>\n",
              "    <tr>\n",
              "      <th>3</th>\n",
              "      <td>Amazon Customer</td>\n",
              "      <td>Worst experience</td>\n",
              "      <td>1.0 out of 5 stars</td>\n",
              "      <td>Very bad experience from Amazon. Very bad came...</td>\n",
              "      <td>1.0</td>\n",
              "      <td>-1.00000</td>\n",
              "      <td>0.000000</td>\n",
              "      <td>bad experience amazon bad camera quality phon...</td>\n",
              "    </tr>\n",
              "    <tr>\n",
              "      <th>4</th>\n",
              "      <td>Sourabh Meena</td>\n",
              "      <td>Best in budget</td>\n",
              "      <td>5.0 out of 5 stars</td>\n",
              "      <td>Best buy at this price! The display quality is...</td>\n",
              "      <td>5.0</td>\n",
              "      <td>1.57500</td>\n",
              "      <td>0.315189</td>\n",
              "      <td>best buy price display quality amazing compla...</td>\n",
              "    </tr>\n",
              "    <tr>\n",
              "      <th>...</th>\n",
              "      <td>...</td>\n",
              "      <td>...</td>\n",
              "      <td>...</td>\n",
              "      <td>...</td>\n",
              "      <td>...</td>\n",
              "      <td>...</td>\n",
              "      <td>...</td>\n",
              "      <td>...</td>\n",
              "    </tr>\n",
              "    <tr>\n",
              "      <th>1595</th>\n",
              "      <td>Amazon Customer</td>\n",
              "      <td>Worst experience</td>\n",
              "      <td>1.0 out of 5 stars</td>\n",
              "      <td>Very bad experience from Amazon. Very bad came...</td>\n",
              "      <td>1.0</td>\n",
              "      <td>-1.00000</td>\n",
              "      <td>0.000000</td>\n",
              "      <td>bad experience amazon bad camera quality phon...</td>\n",
              "    </tr>\n",
              "    <tr>\n",
              "      <th>1596</th>\n",
              "      <td>Sourabh Meena</td>\n",
              "      <td>Best in budget</td>\n",
              "      <td>5.0 out of 5 stars</td>\n",
              "      <td>Best buy at this price! The display quality is...</td>\n",
              "      <td>5.0</td>\n",
              "      <td>1.57500</td>\n",
              "      <td>0.315189</td>\n",
              "      <td>best buy price display quality amazing compla...</td>\n",
              "    </tr>\n",
              "    <tr>\n",
              "      <th>1597</th>\n",
              "      <td>Thirunavukarasu</td>\n",
              "      <td>Think it before buy</td>\n",
              "      <td>4.0 out of 5 stars</td>\n",
              "      <td>i didn't upload photo ....for any reason but i...</td>\n",
              "      <td>4.0</td>\n",
              "      <td>1.40000</td>\n",
              "      <td>0.328443</td>\n",
              "      <td>didnt upload photo reason mark display cam fi...</td>\n",
              "    </tr>\n",
              "    <tr>\n",
              "      <th>1598</th>\n",
              "      <td>Anup mall</td>\n",
              "      <td>Everything is fine except camera which only wo...</td>\n",
              "      <td>1.0 out of 5 stars</td>\n",
              "      <td>This phone is not value for moneyIts a downgra...</td>\n",
              "      <td>1.0</td>\n",
              "      <td>0.90000</td>\n",
              "      <td>0.520035</td>\n",
              "      <td>phone value moneyits downgraded phone earlier...</td>\n",
              "    </tr>\n",
              "    <tr>\n",
              "      <th>1599</th>\n",
              "      <td>Monu Godara</td>\n",
              "      <td>Value for money</td>\n",
              "      <td>5.0 out of 5 stars</td>\n",
              "      <td>Good product value for money but ordering is t...</td>\n",
              "      <td>5.0</td>\n",
              "      <td>0.20000</td>\n",
              "      <td>0.146884</td>\n",
              "      <td>good product value money ordering difficult m...</td>\n",
              "    </tr>\n",
              "  </tbody>\n",
              "</table>\n",
              "<p>1600 rows × 8 columns</p>\n",
              "</div>\n",
              "      <button class=\"colab-df-convert\" onclick=\"convertToInteractive('df-22235d95-3fd9-4b28-bc18-a2a09ab0e7e1')\"\n",
              "              title=\"Convert this dataframe to an interactive table.\"\n",
              "              style=\"display:none;\">\n",
              "        \n",
              "  <svg xmlns=\"http://www.w3.org/2000/svg\" height=\"24px\"viewBox=\"0 0 24 24\"\n",
              "       width=\"24px\">\n",
              "    <path d=\"M0 0h24v24H0V0z\" fill=\"none\"/>\n",
              "    <path d=\"M18.56 5.44l.94 2.06.94-2.06 2.06-.94-2.06-.94-.94-2.06-.94 2.06-2.06.94zm-11 1L8.5 8.5l.94-2.06 2.06-.94-2.06-.94L8.5 2.5l-.94 2.06-2.06.94zm10 10l.94 2.06.94-2.06 2.06-.94-2.06-.94-.94-2.06-.94 2.06-2.06.94z\"/><path d=\"M17.41 7.96l-1.37-1.37c-.4-.4-.92-.59-1.43-.59-.52 0-1.04.2-1.43.59L10.3 9.45l-7.72 7.72c-.78.78-.78 2.05 0 2.83L4 21.41c.39.39.9.59 1.41.59.51 0 1.02-.2 1.41-.59l7.78-7.78 2.81-2.81c.8-.78.8-2.07 0-2.86zM5.41 20L4 18.59l7.72-7.72 1.47 1.35L5.41 20z\"/>\n",
              "  </svg>\n",
              "      </button>\n",
              "      \n",
              "  <style>\n",
              "    .colab-df-container {\n",
              "      display:flex;\n",
              "      flex-wrap:wrap;\n",
              "      gap: 12px;\n",
              "    }\n",
              "\n",
              "    .colab-df-convert {\n",
              "      background-color: #E8F0FE;\n",
              "      border: none;\n",
              "      border-radius: 50%;\n",
              "      cursor: pointer;\n",
              "      display: none;\n",
              "      fill: #1967D2;\n",
              "      height: 32px;\n",
              "      padding: 0 0 0 0;\n",
              "      width: 32px;\n",
              "    }\n",
              "\n",
              "    .colab-df-convert:hover {\n",
              "      background-color: #E2EBFA;\n",
              "      box-shadow: 0px 1px 2px rgba(60, 64, 67, 0.3), 0px 1px 3px 1px rgba(60, 64, 67, 0.15);\n",
              "      fill: #174EA6;\n",
              "    }\n",
              "\n",
              "    [theme=dark] .colab-df-convert {\n",
              "      background-color: #3B4455;\n",
              "      fill: #D2E3FC;\n",
              "    }\n",
              "\n",
              "    [theme=dark] .colab-df-convert:hover {\n",
              "      background-color: #434B5C;\n",
              "      box-shadow: 0px 1px 3px 1px rgba(0, 0, 0, 0.15);\n",
              "      filter: drop-shadow(0px 1px 2px rgba(0, 0, 0, 0.3));\n",
              "      fill: #FFFFFF;\n",
              "    }\n",
              "  </style>\n",
              "\n",
              "      <script>\n",
              "        const buttonEl =\n",
              "          document.querySelector('#df-22235d95-3fd9-4b28-bc18-a2a09ab0e7e1 button.colab-df-convert');\n",
              "        buttonEl.style.display =\n",
              "          google.colab.kernel.accessAllowed ? 'block' : 'none';\n",
              "\n",
              "        async function convertToInteractive(key) {\n",
              "          const element = document.querySelector('#df-22235d95-3fd9-4b28-bc18-a2a09ab0e7e1');\n",
              "          const dataTable =\n",
              "            await google.colab.kernel.invokeFunction('convertToInteractive',\n",
              "                                                     [key], {});\n",
              "          if (!dataTable) return;\n",
              "\n",
              "          const docLinkHtml = 'Like what you see? Visit the ' +\n",
              "            '<a target=\"_blank\" href=https://colab.research.google.com/notebooks/data_table.ipynb>data table notebook</a>'\n",
              "            + ' to learn more about interactive tables.';\n",
              "          element.innerHTML = '';\n",
              "          dataTable['output_type'] = 'display_data';\n",
              "          await google.colab.output.renderOutput(dataTable, element);\n",
              "          const docLink = document.createElement('div');\n",
              "          docLink.innerHTML = docLinkHtml;\n",
              "          element.appendChild(docLink);\n",
              "        }\n",
              "      </script>\n",
              "    </div>\n",
              "  </div>\n",
              "  "
            ]
          },
          "metadata": {},
          "execution_count": 21
        }
      ],
      "source": [
        "df"
      ]
    },
    {
      "cell_type": "code",
      "execution_count": null,
      "metadata": {
        "id": "5RuPz3DZ4xEV"
      },
      "outputs": [],
      "source": [
        "#If the sum of polarity score of all words in the string is >0- classify it as 1, \n",
        "#if <0 then classify it as -1, if 0 then classify it as 0\n",
        "polarity_scores_value=[]\n",
        "for i in range(len(df)):\n",
        "  if(df['total_words_polarity_score'][i]>0):\n",
        "    polarity_scores_value.append(1)\n",
        "  elif(df['total_words_polarity_score'][i]==0):\n",
        "    polarity_scores_value.append(0)\n",
        "  else:\n",
        "    polarity_scores_value.append(-1)"
      ]
    },
    {
      "cell_type": "code",
      "execution_count": null,
      "metadata": {
        "id": "9w9gAqax6N6R"
      },
      "outputs": [],
      "source": [
        "#Append the polarity score value in the dataframe\n",
        "df['polarity_scores_value']=polarity_scores_value"
      ]
    },
    {
      "cell_type": "code",
      "execution_count": null,
      "metadata": {
        "colab": {
          "base_uri": "https://localhost:8080/"
        },
        "id": "Y-cZQ0fB4Y-j",
        "outputId": "ffec1913-915a-400a-c8b9-693fe2b260c2"
      },
      "outputs": [
        {
          "output_type": "execute_result",
          "data": {
            "text/plain": [
              "array([0.09579587, 1.82680113, 0.24480694, 0.        , 0.31518894,\n",
              "       0.32844298, 0.52003471, 0.14688416])"
            ]
          },
          "metadata": {},
          "execution_count": 24
        }
      ],
      "source": [
        "df['normalized_polarized_score'].unique()"
      ]
    },
    {
      "cell_type": "code",
      "execution_count": null,
      "metadata": {
        "id": "jmYC7gbybNNd"
      },
      "outputs": [],
      "source": [
        "#splitting data to sample data for training and rest for predicting the sample\n",
        "df_train=df.iloc[:8, :]\n",
        "df_test=df.iloc[8:,:]"
      ]
    },
    {
      "cell_type": "code",
      "execution_count": null,
      "metadata": {
        "id": "aN9GOcSW3nWJ"
      },
      "outputs": [],
      "source": [
        "#x as the preprocessed review and y is the polarity score sum of the words in the review\n",
        "x = df_train['preprocessed_query_list']\n",
        "y = df_train['polarity_scores_value']\n",
        "from sklearn.model_selection import train_test_split\n",
        "x, x_test, y, y_test = train_test_split(x,y, stratify=y, test_size=0.25, random_state=42)"
      ]
    },
    {
      "cell_type": "code",
      "execution_count": null,
      "metadata": {
        "id": "kD4Ii4kD7WWo"
      },
      "outputs": [],
      "source": [
        "from sklearn.feature_extraction.text import CountVectorizer"
      ]
    },
    {
      "cell_type": "code",
      "execution_count": null,
      "metadata": {
        "id": "vpbbxzoU62l3"
      },
      "outputs": [],
      "source": [
        "# Vectorize text reviews to numbers\n",
        "vec = CountVectorizer(stop_words='english')\n",
        "x = vec.fit_transform(x).toarray()\n",
        "x_test = vec.transform(x_test).toarray()"
      ]
    },
    {
      "cell_type": "code",
      "execution_count": null,
      "metadata": {
        "id": "U_4nH_hD6jvp"
      },
      "outputs": [],
      "source": [
        "#using PCA to reduce the number of features\n",
        "from sklearn.decomposition import PCA\n",
        "pca = PCA()\n",
        "Xtrain = pca.fit_transform(x)\n",
        "Xtest = pca.transform(x_test)"
      ]
    },
    {
      "cell_type": "code",
      "execution_count": null,
      "metadata": {
        "id": "BJgKkYjS8vTC"
      },
      "outputs": [],
      "source": [
        "from sklearn.ensemble import AdaBoostClassifier"
      ]
    },
    {
      "cell_type": "code",
      "execution_count": null,
      "metadata": {
        "id": "Li2PjesZ6xWe"
      },
      "outputs": [],
      "source": [
        "#method 1- Using adaboost classifier\n",
        "model = AdaBoostClassifier()"
      ]
    },
    {
      "cell_type": "code",
      "execution_count": null,
      "metadata": {
        "colab": {
          "base_uri": "https://localhost:8080/"
        },
        "id": "S4JJSew_6xZN",
        "outputId": "b3278bb7-e66b-4dc1-c145-6cebd5231f15"
      },
      "outputs": [
        {
          "output_type": "execute_result",
          "data": {
            "text/plain": [
              "AdaBoostClassifier()"
            ]
          },
          "metadata": {},
          "execution_count": 32
        }
      ],
      "source": [
        "#Fit the model on adaboost classifier\n",
        "model.fit(Xtrain, y)"
      ]
    },
    {
      "cell_type": "code",
      "execution_count": null,
      "metadata": {
        "id": "vWGTPdKebzbH"
      },
      "outputs": [],
      "source": [
        "x_testing = df_test['preprocessed_query_list']\n",
        "y_testing = df_test['polarity_scores_value']"
      ]
    },
    {
      "cell_type": "code",
      "execution_count": null,
      "metadata": {
        "id": "dKGymJiSbzdd"
      },
      "outputs": [],
      "source": [
        "x_testing = vec.transform(x_testing).toarray()"
      ]
    },
    {
      "cell_type": "code",
      "execution_count": null,
      "metadata": {
        "id": "CSOH77cAcJdb"
      },
      "outputs": [],
      "source": [
        "Xtesting = pca.transform(x_testing)"
      ]
    },
    {
      "cell_type": "code",
      "source": [
        "y_predicted=model.predict(Xtesting)"
      ],
      "metadata": {
        "id": "f80_vQ3yRvW0"
      },
      "execution_count": null,
      "outputs": []
    },
    {
      "cell_type": "code",
      "source": [
        "y_predicted"
      ],
      "metadata": {
        "colab": {
          "base_uri": "https://localhost:8080/"
        },
        "id": "JTKwa8ojR4Ks",
        "outputId": "de81feb9-2dfb-40a3-b86a-9b0af4f69532"
      },
      "execution_count": null,
      "outputs": [
        {
          "output_type": "execute_result",
          "data": {
            "text/plain": [
              "array([-1,  1,  1, ...,  1,  1,  1])"
            ]
          },
          "metadata": {},
          "execution_count": 44
        }
      ]
    },
    {
      "cell_type": "code",
      "source": [
        "count_positive=0\n",
        "count_negative=0\n",
        "for i in range(len(y_predicted)):\n",
        "  if y_predicted[i]==1:\n",
        "    count_positive=count_positive+1\n",
        "  else:\n",
        "    count_negative=count_negative+1\n"
      ],
      "metadata": {
        "id": "lZfVXqO2R8Un"
      },
      "execution_count": null,
      "outputs": []
    },
    {
      "cell_type": "code",
      "source": [
        "if(count_positive>count_negative):\n",
        "  print(\"You can go for the selected device :) \")\n",
        "else:\n",
        "  print(\"Maybe you can go with any other option available :( \")"
      ],
      "metadata": {
        "colab": {
          "base_uri": "https://localhost:8080/"
        },
        "id": "1uw9cuNhSYaK",
        "outputId": "a74c41dd-6311-423d-c4e6-2af5b38084ae"
      },
      "execution_count": null,
      "outputs": [
        {
          "output_type": "stream",
          "name": "stdout",
          "text": [
            "You can go for the selected device :) \n"
          ]
        }
      ]
    },
    {
      "cell_type": "code",
      "execution_count": null,
      "metadata": {
        "colab": {
          "base_uri": "https://localhost:8080/"
        },
        "id": "hBnO3T1KcJf4",
        "outputId": "061ff986-2dad-4ea2-af52-cfc68ae67f00"
      },
      "outputs": [
        {
          "output_type": "execute_result",
          "data": {
            "text/plain": [
              "0.875"
            ]
          },
          "metadata": {},
          "execution_count": 36
        }
      ],
      "source": [
        "model.score(Xtesting, y_testing)"
      ]
    },
    {
      "cell_type": "code",
      "source": [
        "import pickle\n",
        "with open('thirdbaseline_model1', 'wb') as files:\n",
        "    pickle.dump(model, files)"
      ],
      "metadata": {
        "id": "So1NZIUpQqao"
      },
      "execution_count": null,
      "outputs": []
    },
    {
      "cell_type": "code",
      "execution_count": null,
      "metadata": {
        "colab": {
          "base_uri": "https://localhost:8080/"
        },
        "id": "XQJ4xUkJ9KQI",
        "outputId": "b6ea64c8-5d3d-4ba4-a05e-96257aa69e87"
      },
      "outputs": [
        {
          "output_type": "stream",
          "name": "stdout",
          "text": [
            "random forest score is 0.875\n"
          ]
        }
      ],
      "source": [
        "#method 2- usie Random forest for classification\n",
        "import sklearn.ensemble\n",
        "clf_rf=sklearn.ensemble.RandomForestClassifier()\n",
        "clf_rf.fit(Xtrain, y)\n",
        "print('random forest score is',clf_rf.score(Xtesting, y_testing))\n",
        "#print('importance for features in random forest are::',clf_rf.feature_importances_)"
      ]
    },
    {
      "cell_type": "code",
      "source": [
        "y_predicted=clf_rf.predict(Xtesting)\n",
        "\n",
        "count_positive=0\n",
        "count_negative=0\n",
        "for i in range(len(y_predicted)):\n",
        "  if y_predicted[i]==1:\n",
        "    count_positive=count_positive+1\n",
        "  else:\n",
        "    count_negative=count_negative+1\n",
        "\n",
        "if(count_positive>count_negative):\n",
        "  print(\"You can go for the selected device :) \")\n",
        "else:\n",
        "  print(\"Maybe you can go with any other option available :( \")"
      ],
      "metadata": {
        "colab": {
          "base_uri": "https://localhost:8080/"
        },
        "id": "XaMVhE2BSvVo",
        "outputId": "05c8d78f-a488-434b-bf8d-2b1af9ce26d2"
      },
      "execution_count": null,
      "outputs": [
        {
          "output_type": "stream",
          "name": "stdout",
          "text": [
            "You can go for the selected device :) \n"
          ]
        }
      ]
    },
    {
      "cell_type": "code",
      "source": [
        "import pickle\n",
        "with open('thirdbaseline_model2', 'wb') as files:\n",
        "    pickle.dump(clf_rf, files)"
      ],
      "metadata": {
        "id": "oZ_N6dTuRCV5"
      },
      "execution_count": null,
      "outputs": []
    },
    {
      "cell_type": "code",
      "execution_count": null,
      "metadata": {
        "colab": {
          "base_uri": "https://localhost:8080/"
        },
        "id": "5HCrJiGn9Ky8",
        "outputId": "8e80124d-1d67-4601-dfc7-b2fa1ed6784f"
      },
      "outputs": [
        {
          "output_type": "stream",
          "name": "stdout",
          "text": [
            "decision tree score 0.875\n"
          ]
        }
      ],
      "source": [
        "#creating decision tree \n",
        "import sklearn.tree\n",
        "df_gini=sklearn.tree.DecisionTreeClassifier()\n",
        "\n",
        "\n",
        "df_gini.fit(Xtrain, y)\n",
        "print(\"decision tree score\",df_gini.score(Xtesting, y_testing))"
      ]
    },
    {
      "cell_type": "code",
      "source": [
        "y_predicted=df_gini.predict(Xtesting)\n",
        "\n",
        "count_positive=0\n",
        "count_negative=0\n",
        "for i in range(len(y_predicted)):\n",
        "  if y_predicted[i]==1:\n",
        "    count_positive=count_positive+1\n",
        "  else:\n",
        "    count_negative=count_negative+1\n",
        "\n",
        "if(count_positive>count_negative):\n",
        "  print(\"You can go for the selected device :) \")\n",
        "else:\n",
        "  print(\"Maybe you can go with any other option available :( \")"
      ],
      "metadata": {
        "colab": {
          "base_uri": "https://localhost:8080/"
        },
        "id": "IN2BJQlrS4tH",
        "outputId": "e81d41c7-de01-48ef-fb0d-fb71bd793975"
      },
      "execution_count": null,
      "outputs": [
        {
          "output_type": "stream",
          "name": "stdout",
          "text": [
            "You can go for the selected device :) \n"
          ]
        }
      ]
    },
    {
      "cell_type": "code",
      "source": [
        "import pickle\n",
        "with open('thirdbaseline_model3', 'wb') as files:\n",
        "    pickle.dump(df_gini, files)"
      ],
      "metadata": {
        "id": "n8BfkeIWRJBa"
      },
      "execution_count": null,
      "outputs": []
    },
    {
      "cell_type": "code",
      "execution_count": null,
      "metadata": {
        "colab": {
          "base_uri": "https://localhost:8080/",
          "height": 301
        },
        "id": "Xxwtyd7x9iLY",
        "outputId": "9b699bf9-490b-480b-a6be-9eb2b7b8dbdb"
      },
      "outputs": [
        {
          "data": {
            "text/plain": [
              "[Text(0.5, 0.75, 'X[1] <= 1.822\\ngini = 0.278\\nsamples = 6\\nvalue = [1, 5]'),\n",
              " Text(0.25, 0.25, 'gini = 0.0\\nsamples = 5\\nvalue = [0, 5]'),\n",
              " Text(0.75, 0.25, 'gini = 0.0\\nsamples = 1\\nvalue = [1, 0]')]"
            ]
          },
          "execution_count": 92,
          "metadata": {},
          "output_type": "execute_result"
        },
        {
          "data": {
            "image/png": "[encoded data removed]",
            "text/plain": [
              "<Figure size 432x288 with 1 Axes>"
            ]
          },
          "metadata": {},
          "output_type": "display_data"
        }
      ],
      "source": [
        "#Plotting the decision tree\n",
        "from sklearn import tree\n",
        "tree.plot_tree(df_gini)"
      ]
    },
    {
      "cell_type": "code",
      "execution_count": null,
      "metadata": {
        "id": "RQEeZU6xd35Q"
      },
      "outputs": [],
      "source": [
        ""
      ]
    }
  ],
  "metadata": {
    "colab": {
      "collapsed_sections": [],
      "name": "IR_Project_ThirdBaseline.ipynb",
      "provenance": [],
      "include_colab_link": true
    },
    "kernelspec": {
      "display_name": "Python 3",
      "name": "python3"
    },
    "language_info": {
      "name": "python"
    }
  },
  "nbformat": 4,
  "nbformat_minor": 0
}